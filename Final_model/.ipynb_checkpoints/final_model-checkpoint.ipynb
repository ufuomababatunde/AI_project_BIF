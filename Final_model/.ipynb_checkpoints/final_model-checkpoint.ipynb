{
 "cells": [
  {
   "cell_type": "markdown",
   "metadata": {},
   "source": [
    "# list of mRNA probe with FPKM normalized method used in this optimized model \n",
    "\n",
    "- 499327261\n",
    "- 499346437\n",
    "- 499312096\n",
    "- 499337273\n",
    "- 499338075\n",
    "- 499309115\n",
    "- 499319908\n",
    "- 499313417\n",
    "- 499316323\n",
    "- 499342518\n",
    "- 499313955\n",
    "- 499312645\n",
    "- 499336677\n",
    "- 499346206\n",
    "- 499323507\n",
    "- 499310993\n",
    "- 499330074\n",
    "- 499341379\n",
    "- 499322859\n",
    "- 499330046\n",
    "- 499338238\n",
    "- 499312055\n",
    "- 499341656\n",
    "- 499343197\n",
    "\n",
    "The detail of RNA sequencing platform used in this dataset described in Allen Institute for Brain Science (http://aging.brain-map.org/overview/explore)"
   ]
  },
  {
   "cell_type": "markdown",
   "metadata": {},
   "source": [
    "# load your gene expression of your pateint here"
   ]
  },
  {
   "cell_type": "code",
   "execution_count": 1,
   "metadata": {},
   "outputs": [],
   "source": [
    "import pickle\n",
    "with open('Test_example.pkl','rb') as f:\n",
    "    x_test = pickle.load(f)"
   ]
  },
  {
   "cell_type": "markdown",
   "metadata": {},
   "source": [
    "# load optimal model"
   ]
  },
  {
   "cell_type": "code",
   "execution_count": 2,
   "metadata": {},
   "outputs": [],
   "source": [
    "optimal_model = pickle.load(open(\"finalized_model.sav\", 'rb'))\n",
    "Prediction_result = optimal_model.predict(x_test)"
   ]
  },
  {
   "cell_type": "markdown",
   "metadata": {},
   "source": [
    "# Model Prediction result - Alzheimer's disease (Yes = 1, Healthy= 0)"
   ]
  },
  {
   "cell_type": "code",
   "execution_count": 3,
   "metadata": {},
   "outputs": [
    {
     "data": {
      "text/plain": [
       "array([0, 1, 1, 1, 0, 0, 0, 0, 0, 1, 1, 1, 1, 1, 0, 0, 0, 1, 0, 0, 0, 0,\n",
       "       0, 1, 1, 0, 1, 1, 0])"
      ]
     },
     "execution_count": 3,
     "metadata": {},
     "output_type": "execute_result"
    }
   ],
   "source": [
    "Prediction_result"
   ]
  },
  {
   "cell_type": "code",
   "execution_count": null,
   "metadata": {},
   "outputs": [],
   "source": []
  }
 ],
 "metadata": {
  "kernelspec": {
   "display_name": "Python 3",
   "language": "python",
   "name": "python3"
  },
  "language_info": {
   "codemirror_mode": {
    "name": "ipython",
    "version": 3
   },
   "file_extension": ".py",
   "mimetype": "text/x-python",
   "name": "python",
   "nbconvert_exporter": "python",
   "pygments_lexer": "ipython3",
   "version": "3.7.9"
  },
  "toc": {
   "base_numbering": 1,
   "nav_menu": {},
   "number_sections": true,
   "sideBar": true,
   "skip_h1_title": false,
   "title_cell": "Table of Contents",
   "title_sidebar": "Contents",
   "toc_cell": false,
   "toc_position": {},
   "toc_section_display": true,
   "toc_window_display": false
  }
 },
 "nbformat": 4,
 "nbformat_minor": 4
}
