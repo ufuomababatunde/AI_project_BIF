{
 "cells": [
  {
   "cell_type": "markdown",
   "metadata": {},
   "source": [
    "# Warning !!! your must decompress file, projects_file.tar.gz, before runing the entire script"
   ]
  },
  {
   "cell_type": "code",
   "execution_count": 1,
   "metadata": {},
   "outputs": [],
   "source": [
    "import pandas as pd\n",
    "import seaborn as sns\n",
    "import numpy as np\n",
    "from sklearn.model_selection import train_test_split\n",
    "from sklearn.preprocessing import StandardScaler\n",
    "from sklearn.linear_model import LogisticRegression\n",
    "from genetic_selection import GeneticSelectionCV\n",
    "import pickle\n",
    "import matplotlib.pyplot as plt\n",
    "from sklearn.metrics import plot_confusion_matrix"
   ]
  },
  {
   "cell_type": "markdown",
   "metadata": {},
   "source": [
    "# Dataset Preparation"
   ]
  },
  {
   "cell_type": "markdown",
   "metadata": {},
   "source": [
    "##  Select ID of Hippocampus sample"
   ]
  },
  {
   "cell_type": "code",
   "execution_count": 86,
   "metadata": {},
   "outputs": [],
   "source": [
    "column_sample = pd.read_csv(\"columns-samples.csv\").query(\"structure_name == 'hippocampus (hippocampal formation)'\")"
   ]
  },
  {
   "cell_type": "code",
   "execution_count": 3,
   "metadata": {},
   "outputs": [],
   "source": [
    "label_df = pd.read_csv(\"Sample_info.csv\")"
   ]
  },
  {
   "cell_type": "code",
   "execution_count": 5,
   "metadata": {},
   "outputs": [],
   "source": [
    "mdf = pd.merge(column_sample,label_df,on=\"donor_id\")"
   ]
  },
  {
   "cell_type": "markdown",
   "metadata": {},
   "source": [
    "## Merge Label with RNA Dataset"
   ]
  },
  {
   "cell_type": "code",
   "execution_count": 6,
   "metadata": {},
   "outputs": [
    {
     "name": "stderr",
     "output_type": "stream",
     "text": [
      "/Users/yean/opt/anaconda3/lib/python3.7/site-packages/ipykernel_launcher.py:5: SettingWithCopyWarning: \n",
      "A value is trying to be set on a copy of a slice from a DataFrame.\n",
      "Try using .loc[row_indexer,col_indexer] = value instead\n",
      "\n",
      "See the caveats in the documentation: https://pandas.pydata.org/pandas-docs/stable/user_guide/indexing.html#returning-a-view-versus-a-copy\n",
      "  \"\"\"\n"
     ]
    }
   ],
   "source": [
    "#prepare dataframe\n",
    "df = pd.read_csv(\"fpkm_table_normalized.csv\").rename(columns={'gene_id \\ rnaseq_profile_id': 'rnaseq_profile_id'}).transpose().reset_index()\n",
    "df_2 = df.iloc[1:,:]\n",
    "df_2.columns = df.iloc[0,:]\n",
    "df_2[\"rnaseq_profile_id\"] = df_2[\"rnaseq_profile_id\"].astype(int)"
   ]
  },
  {
   "cell_type": "code",
   "execution_count": 7,
   "metadata": {},
   "outputs": [
    {
     "name": "stderr",
     "output_type": "stream",
     "text": [
      "/Users/yean/opt/anaconda3/lib/python3.7/site-packages/ipykernel_launcher.py:3: SettingWithCopyWarning: \n",
      "A value is trying to be set on a copy of a slice from a DataFrame.\n",
      "Try using .loc[row_indexer,col_indexer] = value instead\n",
      "\n",
      "See the caveats in the documentation: https://pandas.pydata.org/pandas-docs/stable/user_guide/indexing.html#returning-a-view-versus-a-copy\n",
      "  This is separate from the ipykernel package so we can avoid doing imports until\n"
     ]
    }
   ],
   "source": [
    "# Categorize Phenotype:  Dementia = 1, Not = 0\n",
    "mdf_2 = mdf[[\"rnaseq_profile_id\",\"act_demented\"]]\n",
    "mdf_2[\"cat\"] = np.where(mdf_2[\"act_demented\"] == \"Dementia\",1,0)\n",
    "mdf_3 = mdf_2[[\"rnaseq_profile_id\",\"cat\"]]"
   ]
  },
  {
   "cell_type": "code",
   "execution_count": 8,
   "metadata": {},
   "outputs": [],
   "source": [
    "#merge\n",
    "hippo_dataset = pd.merge(mdf_3,df_2,on=\"rnaseq_profile_id\").drop(['rnaseq_profile_id'], axis=1)\n",
    "hippo_dataset.to_csv(\"hippo.csv\")"
   ]
  },
  {
   "cell_type": "code",
   "execution_count": 9,
   "metadata": {},
   "outputs": [
    {
     "data": {
      "text/plain": [
       "cat\n",
       "0    51\n",
       "1    43\n",
       "dtype: int64"
      ]
     },
     "execution_count": 9,
     "metadata": {},
     "output_type": "execute_result"
    }
   ],
   "source": [
    "hippo_dataset.groupby([\"cat\"]).size()"
   ]
  },
  {
   "cell_type": "markdown",
   "metadata": {},
   "source": [
    "# Function for Trainig Logistic Regression "
   ]
  },
  {
   "cell_type": "code",
   "execution_count": 10,
   "metadata": {
    "scrolled": true
   },
   "outputs": [],
   "source": [
    "# define evaluation metric\n",
    "from sklearn.model_selection import KFold\n",
    "from sklearn.metrics import classification_report\n",
    "from sklearn.metrics import roc_auc_score\n",
    "import random\n",
    "from sklearn.model_selection import StratifiedKFold\n",
    "from sklearn.metrics import confusion_matrix\n",
    "\n",
    "\n",
    "def CV_log(feature,label,mode):\n",
    "\n",
    "    X_train, X_test, y_train, y_test = train_test_split(feature,label,test_size=0.3, random_state=0,stratify = label)\n",
    "    f = pd.DataFrame(y_train,columns=[\"value\"])\n",
    "    f[\"type\"] = \"y_train\"\n",
    "    f_ = pd.DataFrame(y_test,columns=[\"value\"])\n",
    "    f_[\"type\"] = \"y_test\"\n",
    "    pd.concat([f,f_]).groupby(['type','value']).size().reset_index().to_csv(\"big_split_log\"+mode+\".csv\")\n",
    "\n",
    "\n",
    "    res_all_cv = []\n",
    "    hyp_set = []\n",
    "    sample_keep = []\n",
    "    \n",
    "    for rs in range(100):\n",
    "\n",
    "        hyp = {\n",
    "            \"penalty\":[\"l1\",\"l2\"],\n",
    "            \"C\": np.arange(0.01,100,0.1).tolist()}\n",
    "\n",
    "        penal_ = random.choice(hyp['penalty'])\n",
    "        C_ = random.choice(hyp['C'])\n",
    "\n",
    "        skf = StratifiedKFold(n_splits=5)\n",
    "        skf.get_n_splits(X_train, y_train)\n",
    "\n",
    "        cnt = 0\n",
    "        \n",
    "        for train_index, test_index in skf.split(X_train,y_train):   \n",
    "\n",
    "            #Keep sample\n",
    "            x_s = pd.DataFrame(y_train[train_index],columns=[\"index\"])\n",
    "            x_s[\"type\"] = \"train\"\n",
    "            y_s = pd.DataFrame(y_train[test_index],columns=[\"index\"])\n",
    "            y_s[\"type\"] = \"test\"\n",
    "            als = pd.concat([x_s,y_s])\n",
    "            als[\"fold\"] = cnt\n",
    "            als[\"hyp\"] = rs\n",
    "\n",
    "            sample_keep.append(als)\n",
    "\n",
    "\n",
    "            # Training Dataset\n",
    "            model =  LogisticRegression(random_state=0,solver=\"liblinear\",penalty=penal_,C=C_,max_iter=50000).fit(X_train[train_index],y_train[train_index])    \n",
    "\n",
    "            def sum_res(model,x,y,cnt,rs,types):\n",
    "\n",
    "                obs_cv = y\n",
    "                pred_cv = model.predict(x)\n",
    "                auc_cv = roc_auc_score(obs_cv, model.predict_proba(x)[:, 1])\n",
    "                auc_cv_ = pd.DataFrame([auc_cv],columns=[\"value\"])\n",
    "                auc_cv_[\"cat\"] = \"auc\"\n",
    "\n",
    "                def cal_eval (y_true,y_pred):\n",
    "                    tn, fp, fn, tp = confusion_matrix(y_true, y_pred).ravel()\n",
    "                    specificity = tn / (tn+fp)\n",
    "                    sensitivity = tp / (tp+fn)\n",
    "                    return [specificity,sensitivity]\n",
    "\n",
    "                cv_score = cal_eval(obs_cv,pred_cv)\n",
    "\n",
    "                cv_sen_spec = pd.DataFrame(cv_score,columns=[\"value\"])\n",
    "                cv_sen_spec[\"cat\"] = [\"specificity\",\"sensitivity\"]\n",
    "\n",
    "                cdf = pd.concat([auc_cv_,cv_sen_spec])\n",
    "                cdf[\"fold\"] = cnt\n",
    "                cdf[\"rs\"] = rs\n",
    "                cdf[\"type\"] = types\n",
    "\n",
    "                return cdf\n",
    "\n",
    "            tr = sum_res(model,X_train[train_index],y_train[train_index],cnt,rs,\"Training\")\n",
    "            val = sum_res(model,X_train[test_index],y_train[test_index],cnt,rs,\"Validating\")\n",
    "            a = pd.concat([tr,val])\n",
    "\n",
    "            res_all_cv.append(a)\n",
    "\n",
    "            cnt = cnt +1\n",
    "\n",
    "        #save hyper space\n",
    "        import pickle\n",
    "        with open(\"hyper_\"+str(rs)+mode+\".pickle\", 'wb') as handle:\n",
    "            pickle.dump(model.get_params(), handle, protocol=pickle.HIGHEST_PROTOCOL)\n",
    "        \n",
    "\n",
    "\n",
    "    # Selecting Best Param     \n",
    "    x = pd.concat(res_all_cv).groupby(['cat','rs','type']).agg({'value': 'mean'}).reset_index()\n",
    "    best_cv_ = x.query(\"cat == 'auc'& type == 'Validating'\").sort_values('value', ascending=False).drop_duplicates(['cat','rs']).iloc[0,1]\n",
    "    best_performed_cv = x.query(\"rs == @best_cv_\")\n",
    "    params = pickle.load(open(\"hyper_\"+str(best_cv_)+mode+\".pickle\", \"rb\"))\n",
    "\n",
    "    # Predicting optimal model on Testing datasets\n",
    "\n",
    "    lr = LogisticRegression(**params).fit(X_train,y_train)\n",
    "\n",
    "    lr_r = sum_res(lr,X_test,y_test,\"test\",best_cv_,\"Testing\").drop('fold', axis=1)\n",
    "    final_report = pd.concat([lr_r,x]).query(\"rs == @best_cv_\")\n",
    "    final_report[\"N\"] = mode\n",
    "    \n",
    "    #Report Sample number\n",
    "    pd.concat(sample_keep).to_csv(\"sample_fold_log_\"+mode+\".csv\")\n",
    "    \n",
    "    # save the model to disk\n",
    "    filename = \"model_\"+str(rs)+mode+\".sav\"\n",
    "    pickle.dump(model, open(filename, 'wb'))\n",
    "    \n",
    "    return final_report"
   ]
  },
  {
   "cell_type": "markdown",
   "metadata": {},
   "source": [
    "# Feature Selection Method Comparison"
   ]
  },
  {
   "cell_type": "markdown",
   "metadata": {},
   "source": [
    "## Negative control : randomly select"
   ]
  },
  {
   "cell_type": "code",
   "execution_count": 11,
   "metadata": {},
   "outputs": [],
   "source": [
    "rnd_x = np.array(hippo_dataset.drop(['cat'], axis=1).sample(1000, axis=1))\n",
    "rnd_y = np.array(hippo_dataset[\"cat\"])"
   ]
  },
  {
   "cell_type": "code",
   "execution_count": 12,
   "metadata": {
    "collapsed": true
   },
   "outputs": [
    {
     "ename": "KeyboardInterrupt",
     "evalue": "",
     "output_type": "error",
     "traceback": [
      "\u001b[0;31m---------------------------------------------------------------------------\u001b[0m",
      "\u001b[0;31mKeyboardInterrupt\u001b[0m                         Traceback (most recent call last)",
      "\u001b[0;32m<ipython-input-12-a415017f32e7>\u001b[0m in \u001b[0;36m<module>\u001b[0;34m\u001b[0m\n\u001b[0;32m----> 1\u001b[0;31m \u001b[0mng_re\u001b[0m \u001b[0;34m=\u001b[0m \u001b[0mCV_log\u001b[0m\u001b[0;34m(\u001b[0m\u001b[0mrnd_x\u001b[0m\u001b[0;34m,\u001b[0m\u001b[0mrnd_y\u001b[0m\u001b[0;34m,\u001b[0m\u001b[0;34m\"random\"\u001b[0m\u001b[0;34m)\u001b[0m\u001b[0;34m\u001b[0m\u001b[0;34m\u001b[0m\u001b[0m\n\u001b[0m",
      "\u001b[0;32m<ipython-input-10-9045f847c0ac>\u001b[0m in \u001b[0;36mCV_log\u001b[0;34m(feature, label, mode)\u001b[0m\n\u001b[1;32m     51\u001b[0m \u001b[0;34m\u001b[0m\u001b[0m\n\u001b[1;32m     52\u001b[0m             \u001b[0;31m# Training Dataset\u001b[0m\u001b[0;34m\u001b[0m\u001b[0;34m\u001b[0m\u001b[0;34m\u001b[0m\u001b[0m\n\u001b[0;32m---> 53\u001b[0;31m             \u001b[0mmodel\u001b[0m \u001b[0;34m=\u001b[0m  \u001b[0mLogisticRegression\u001b[0m\u001b[0;34m(\u001b[0m\u001b[0mrandom_state\u001b[0m\u001b[0;34m=\u001b[0m\u001b[0;36m0\u001b[0m\u001b[0;34m,\u001b[0m\u001b[0msolver\u001b[0m\u001b[0;34m=\u001b[0m\u001b[0;34m\"liblinear\"\u001b[0m\u001b[0;34m,\u001b[0m\u001b[0mpenalty\u001b[0m\u001b[0;34m=\u001b[0m\u001b[0mpenal_\u001b[0m\u001b[0;34m,\u001b[0m\u001b[0mC\u001b[0m\u001b[0;34m=\u001b[0m\u001b[0mC_\u001b[0m\u001b[0;34m,\u001b[0m\u001b[0mmax_iter\u001b[0m\u001b[0;34m=\u001b[0m\u001b[0;36m50000\u001b[0m\u001b[0;34m)\u001b[0m\u001b[0;34m.\u001b[0m\u001b[0mfit\u001b[0m\u001b[0;34m(\u001b[0m\u001b[0mX_train\u001b[0m\u001b[0;34m[\u001b[0m\u001b[0mtrain_index\u001b[0m\u001b[0;34m]\u001b[0m\u001b[0;34m,\u001b[0m\u001b[0my_train\u001b[0m\u001b[0;34m[\u001b[0m\u001b[0mtrain_index\u001b[0m\u001b[0;34m]\u001b[0m\u001b[0;34m)\u001b[0m\u001b[0;34m\u001b[0m\u001b[0;34m\u001b[0m\u001b[0m\n\u001b[0m\u001b[1;32m     54\u001b[0m \u001b[0;34m\u001b[0m\u001b[0m\n\u001b[1;32m     55\u001b[0m             \u001b[0;32mdef\u001b[0m \u001b[0msum_res\u001b[0m\u001b[0;34m(\u001b[0m\u001b[0mmodel\u001b[0m\u001b[0;34m,\u001b[0m\u001b[0mx\u001b[0m\u001b[0;34m,\u001b[0m\u001b[0my\u001b[0m\u001b[0;34m,\u001b[0m\u001b[0mcnt\u001b[0m\u001b[0;34m,\u001b[0m\u001b[0mrs\u001b[0m\u001b[0;34m,\u001b[0m\u001b[0mtypes\u001b[0m\u001b[0;34m)\u001b[0m\u001b[0;34m:\u001b[0m\u001b[0;34m\u001b[0m\u001b[0;34m\u001b[0m\u001b[0m\n",
      "\u001b[0;32m~/opt/anaconda3/lib/python3.7/site-packages/sklearn/linear_model/_logistic.py\u001b[0m in \u001b[0;36mfit\u001b[0;34m(self, X, y, sample_weight)\u001b[0m\n\u001b[1;32m   1539\u001b[0m                 \u001b[0mself\u001b[0m\u001b[0;34m.\u001b[0m\u001b[0mtol\u001b[0m\u001b[0;34m,\u001b[0m\u001b[0;34m\u001b[0m\u001b[0;34m\u001b[0m\u001b[0m\n\u001b[1;32m   1540\u001b[0m                 \u001b[0mself\u001b[0m\u001b[0;34m.\u001b[0m\u001b[0mrandom_state\u001b[0m\u001b[0;34m,\u001b[0m\u001b[0;34m\u001b[0m\u001b[0;34m\u001b[0m\u001b[0m\n\u001b[0;32m-> 1541\u001b[0;31m                 \u001b[0msample_weight\u001b[0m\u001b[0;34m=\u001b[0m\u001b[0msample_weight\u001b[0m\u001b[0;34m,\u001b[0m\u001b[0;34m\u001b[0m\u001b[0;34m\u001b[0m\u001b[0m\n\u001b[0m\u001b[1;32m   1542\u001b[0m             )\n\u001b[1;32m   1543\u001b[0m             \u001b[0mself\u001b[0m\u001b[0;34m.\u001b[0m\u001b[0mn_iter_\u001b[0m \u001b[0;34m=\u001b[0m \u001b[0mnp\u001b[0m\u001b[0;34m.\u001b[0m\u001b[0marray\u001b[0m\u001b[0;34m(\u001b[0m\u001b[0;34m[\u001b[0m\u001b[0mn_iter_\u001b[0m\u001b[0;34m]\u001b[0m\u001b[0;34m)\u001b[0m\u001b[0;34m\u001b[0m\u001b[0;34m\u001b[0m\u001b[0m\n",
      "\u001b[0;32m~/opt/anaconda3/lib/python3.7/site-packages/sklearn/svm/_base.py\u001b[0m in \u001b[0;36m_fit_liblinear\u001b[0;34m(X, y, C, fit_intercept, intercept_scaling, class_weight, penalty, dual, verbose, max_iter, tol, random_state, multi_class, loss, epsilon, sample_weight)\u001b[0m\n\u001b[1;32m   1189\u001b[0m         \u001b[0mrnd\u001b[0m\u001b[0;34m.\u001b[0m\u001b[0mrandint\u001b[0m\u001b[0;34m(\u001b[0m\u001b[0mnp\u001b[0m\u001b[0;34m.\u001b[0m\u001b[0miinfo\u001b[0m\u001b[0;34m(\u001b[0m\u001b[0;34m\"i\"\u001b[0m\u001b[0;34m)\u001b[0m\u001b[0;34m.\u001b[0m\u001b[0mmax\u001b[0m\u001b[0;34m)\u001b[0m\u001b[0;34m,\u001b[0m\u001b[0;34m\u001b[0m\u001b[0;34m\u001b[0m\u001b[0m\n\u001b[1;32m   1190\u001b[0m         \u001b[0mepsilon\u001b[0m\u001b[0;34m,\u001b[0m\u001b[0;34m\u001b[0m\u001b[0;34m\u001b[0m\u001b[0m\n\u001b[0;32m-> 1191\u001b[0;31m         \u001b[0msample_weight\u001b[0m\u001b[0;34m,\u001b[0m\u001b[0;34m\u001b[0m\u001b[0;34m\u001b[0m\u001b[0m\n\u001b[0m\u001b[1;32m   1192\u001b[0m     )\n\u001b[1;32m   1193\u001b[0m     \u001b[0;31m# Regarding rnd.randint(..) in the above signature:\u001b[0m\u001b[0;34m\u001b[0m\u001b[0;34m\u001b[0m\u001b[0;34m\u001b[0m\u001b[0m\n",
      "\u001b[0;31mKeyboardInterrupt\u001b[0m: "
     ]
    }
   ],
   "source": [
    "ng_re = CV_log(rnd_x,rnd_y,\"random\")"
   ]
  },
  {
   "cell_type": "markdown",
   "metadata": {},
   "source": [
    "## Negative control: All gene"
   ]
  },
  {
   "cell_type": "code",
   "execution_count": 16,
   "metadata": {},
   "outputs": [],
   "source": [
    "all_x = np.array(hippo_dataset.drop(['cat'], axis=1))\n",
    "rnd_y = np.array(hippo_dataset[\"cat\"])"
   ]
  },
  {
   "cell_type": "code",
   "execution_count": 17,
   "metadata": {},
   "outputs": [],
   "source": [
    "all_re = CV_log(all_x,rnd_y,\"Enter\")"
   ]
  },
  {
   "cell_type": "markdown",
   "metadata": {},
   "source": [
    "## PCA"
   ]
  },
  {
   "cell_type": "code",
   "execution_count": 18,
   "metadata": {},
   "outputs": [],
   "source": [
    "from sklearn.decomposition import PCA\n",
    "rnd_x = np.array(hippo_dataset.drop(['cat'], axis=1))\n",
    "rnd_y = np.array(hippo_dataset[\"cat\"])\n",
    "pca = PCA(n_components=10)\n",
    "pc_x = pca.fit_transform(rnd_x)"
   ]
  },
  {
   "cell_type": "code",
   "execution_count": 19,
   "metadata": {},
   "outputs": [],
   "source": [
    "pca_rs = CV_log(pc_x,rnd_y,\"PCA\")"
   ]
  },
  {
   "cell_type": "markdown",
   "metadata": {},
   "source": [
    "## WGCNA"
   ]
  },
  {
   "cell_type": "code",
   "execution_count": 20,
   "metadata": {},
   "outputs": [],
   "source": [
    "#WGCNA 1st variant \n",
    "wgcna_ = pd.read_csv(\"best_gene.csv\").iloc[:,2].tolist()\n",
    "wgcna_x = np.array(hippo_dataset[wgcna_])\n",
    "rnd_y = np.array(hippo_dataset[\"cat\"])\n",
    "wgcna_rs = CV_log(wgcna_x,rnd_y,\"WGCNA_yean\")"
   ]
  },
  {
   "cell_type": "code",
   "execution_count": 22,
   "metadata": {},
   "outputs": [],
   "source": [
    "#WGCNA 2nd variant \n",
    "f = pd.read_csv(\"mig.csv\")[\"gene_id\"].tolist()\n",
    "wgcna_ = pd.read_csv(\"mig.csv\")[\"gene_id\"].tolist()\n",
    "wgcna_migo = np.array(hippo_dataset[wgcna_])\n",
    "rnd_y = np.array(hippo_dataset[\"cat\"])\n",
    "migo = CV_log(wgcna_migo,rnd_y,\"WGCNA_MIG\")"
   ]
  },
  {
   "cell_type": "code",
   "execution_count": 25,
   "metadata": {},
   "outputs": [],
   "source": [
    "#WGCNA 3rd variant \n",
    "f = pd.read_csv(\"mig_new.csv\")[\"Gene\"].tolist()\n",
    "wgcna_ = [str(float(f[i])) for i in range(len(f))]\n",
    "wgcna_ = pd.read_csv(\"mig_new.csv\")[\"Gene\"].tolist()\n",
    "wgcna_mign = np.array(hippo_dataset[wgcna_])\n",
    "rnd_y = np.array(hippo_dataset[\"cat\"])\n",
    "mign = CV_log(wgcna_mign,rnd_y,\"MigN\")"
   ]
  },
  {
   "cell_type": "code",
   "execution_count": 26,
   "metadata": {},
   "outputs": [],
   "source": [
    "#WGCNA 4th variant \n",
    "blu = pd.read_csv(\"blue.csv\")[\"Gene\"].tolist()\n",
    "wgcna_blue = np.array(hippo_dataset[blu])\n",
    "rnd_y = np.array(hippo_dataset[\"cat\"])\n",
    "mig_bl = CV_log(wgcna_blue,rnd_y,\"MigN_blue\")"
   ]
  },
  {
   "cell_type": "code",
   "execution_count": 27,
   "metadata": {},
   "outputs": [],
   "source": [
    "#WGCNA 5th variant \n",
    "pu = pd.read_csv(\"purple.csv\")[\"Gene\"].tolist()\n",
    "wgcna_pu = np.array(hippo_dataset[pu])\n",
    "rnd_y = np.array(hippo_dataset[\"cat\"])\n",
    "mig_pur = CV_log(wgcna_pu,rnd_y,\"MigN_purple\")"
   ]
  },
  {
   "cell_type": "code",
   "execution_count": 28,
   "metadata": {},
   "outputs": [],
   "source": [
    "#WGCNA 6th variant \n",
    "ma = pd.read_csv(\"magent.csv\")[\"Gene\"].tolist()\n",
    "wgcna_ma = np.array(hippo_dataset[ma])\n",
    "rnd_y = np.array(hippo_dataset[\"cat\"])\n",
    "mig_mag = CV_log(wgcna_ma,rnd_y,\"MigN_Magent\")"
   ]
  },
  {
   "cell_type": "markdown",
   "metadata": {},
   "source": [
    "## Genetic Algorithm+WGCNA"
   ]
  },
  {
   "cell_type": "code",
   "execution_count": 32,
   "metadata": {},
   "outputs": [
    {
     "data": {
      "text/plain": [
       "133"
      ]
     },
     "execution_count": 32,
     "metadata": {},
     "output_type": "execute_result"
    }
   ],
   "source": [
    "wgcna_y = pd.read_csv(\"best_gene.csv\").iloc[:,2].tolist()\n",
    "wgcna_m = pd.read_csv(\"mig.csv\")[\"gene_id\"].tolist()"
   ]
  },
  {
   "cell_type": "code",
   "execution_count": 34,
   "metadata": {},
   "outputs": [],
   "source": [
    "def GA_run(wgcna_,DF_S):\n",
    "    all_ga = hippo_dataset[wgcna_]\n",
    "    rnd_y = np.array(hippo_dataset[\"cat\"])\n",
    "    def ga_vote(round_,X_args):\n",
    "        print(round_)\n",
    "        estimator = LogisticRegression(max_iter=50000)\n",
    "        model = GeneticSelectionCV(\n",
    "            estimator, cv=StratifiedKFold(n_splits=2, shuffle=True), verbose=1,\n",
    "            scoring=\"roc_auc\",n_population=500, crossover_proba=0.9,\n",
    "            mutation_proba=0.01, n_generations=100,caching=True, n_jobs=-1)\n",
    "        model_ = model.fit(X_args, rnd_y)\n",
    "        selected_f = X_args.columns[model_.support_].to_frame()\n",
    "        selected_f[\"round\"] = round_\n",
    "        return selected_f\n",
    "    vga = pd.concat([ga_vote(n,all_ga) for n in range(1)]).iloc[:,0].tolist()\n",
    "    \n",
    "    #save hyper space\n",
    "    import pickle\n",
    "    with open(\"variable\"+DF_S+\".pickle\", 'wb') as handle:\n",
    "        pickle.dump(vga, handle, protocol=pickle.HIGHEST_PROTOCOL)\n",
    "\n",
    "    \n",
    "    ga_f = np.array(all_ga[vga])\n",
    "    rnd_y = np.array(hippo_dataset[\"cat\"])\n",
    "    rga = CV_log(ga_f,rnd_y,DF_S)\n",
    "    return rga"
   ]
  },
  {
   "cell_type": "code",
   "execution_count": 35,
   "metadata": {
    "collapsed": true
   },
   "outputs": [
    {
     "name": "stdout",
     "output_type": "stream",
     "text": [
      "0\n",
      "Selecting features with genetic algorithm.\n",
      "gen\tnevals\tavg                    \tstd                    \tmin                    \tmax                      \n",
      "0  \t500   \t[0.63181098 8.182     ]\t[0.06555774 4.26577965]\t[0.38524143 1.        ]\t[ 0.74734932 15.        ]\n",
      "1  \t446   \t[-19.34602877   5.912     ]\t[446.79543757   3.65243152]\t[-10000.      0.]      \t[ 0.75000999 15.        ]\n",
      "2  \t449   \t[-39.32943554   4.308     ]\t[631.23185093   2.58246704]\t[-10000.      0.]      \t[ 0.75466866 14.        ]\n",
      "3  \t438   \t[-39.30713995   3.2       ]\t[631.23326306   1.67809416]\t[-10000.      0.]      \t[ 0.7556044 10.       ]  \n",
      "4  \t453   \t[-99.30668505   2.83      ]\t[995.05711897   1.39610172]\t[-10000.      0.]      \t[ 0.75981685 10.        ]\n",
      "5  \t439   \t[-39.28759514   2.362     ]\t[631.23450156   1.13267648]\t[-10000.      0.]      \t[0.76661339 6.        ]  \n",
      "6  \t460   \t[-39.28010687   1.87      ]\t[631.23497703   0.8950419 ]\t[-10000.      0.]      \t[0.76661339 5.        ]  \n",
      "7  \t434   \t[0.71768394 1.524     ]    \t[0.08215515 0.67039093]    \t[0.39867466 1.        ]\t[0.76661339 4.        ]  \n",
      "8  \t458   \t[0.73208432 1.348     ]    \t[0.05230593 0.52810605]    \t[0.39230436 1.        ]\t[0.76661339 4.        ]  \n",
      "9  \t444   \t[0.74150352 1.252     ]    \t[0.01178304 0.46529131]    \t[0.66329337 1.        ]\t[0.76661339 3.        ]  \n",
      "10 \t455   \t[0.742316 1.178   ]        \t[0.01179195 0.4028846 ]    \t[0.63050616 1.        ]\t[0.76661339 3.        ]  \n",
      "11 \t461   \t[0.74039101 1.11      ]    \t[0.02308732 0.31921779]    \t[0.38955711 1.        ]\t[0.76661339 3.        ]  \n",
      "12 \t447   \t[0.714834 1.094   ]        \t[0.08826479 0.29860342]    \t[0.38955711 1.        ]\t[0.76661339 3.        ]  \n",
      "13 \t444   \t[0.72468066 1.106     ]    \t[0.06951107 0.32056825]    \t[0.38955711 1.        ]\t[0.76661339 3.        ]  \n",
      "14 \t457   \t[0.70642461 1.096     ]    \t[0.10027906 0.29459124]    \t[0.38955711 1.        ]\t[0.76661339 2.        ]  \n",
      "15 \t457   \t[0.72356461 1.084     ]    \t[0.0789422  0.32395061]    \t[0.39230436 1.        ]\t[0.76661339 4.        ]  \n",
      "16 \t460   \t[0.73405062 1.04      ]    \t[0.05541106 0.2059126 ]    \t[0.42058608 1.        ]\t[0.76661339 3.        ]  \n",
      "17 \t450   \t[0.74344723 1.022     ]    \t[0.00547595 0.14668333]    \t[0.7303996 1.       ]  \t[0.76661339 2.        ]  \n",
      "18 \t450   \t[0.7429908 1.024    ]      \t[0.00582727 0.15304901]    \t[0.73090576 1.        ]\t[0.76661339 2.        ]  \n",
      "19 \t442   \t[0.72293722 1.02      ]    \t[0.07738471 0.14      ]    \t[0.40597403 1.        ]\t[0.76661339 2.        ]  \n",
      "20 \t442   \t[-19.25747526   1.012     ]\t[4.46799398e+02 1.25920610e-01]\t[-10000.      0.]      \t[0.76661339 2.        ]  \n",
      "21 \t447   \t[0.73288517 1.004     ]    \t[0.05366484 0.06311894]        \t[0.42067266 1.        ]\t[0.76661339 2.        ]  \n",
      "22 \t448   \t[0.7246154 1.004    ]      \t[0.07405594 0.06311894]        \t[0.42067266 1.        ]\t[0.76661339 2.        ]  \n",
      "23 \t451   \t[0.73310617 1.004     ]    \t[0.05526212 0.06311894]        \t[0.42067266 1.        ]\t[0.76661339 2.        ]  \n",
      "24 \t462   \t[0.74307774 1.014     ]    \t[0.00688828 0.14766178]        \t[0.67107892 1.        ]\t[0.76661339 3.        ]  \n",
      "25 \t448   \t[0.73358567 1.004     ]    \t[0.05341735 0.06311894]        \t[0.42067266 1.        ]\t[0.76661339 2.        ]  \n",
      "26 \t456   \t[0.69340067 1.        ]    \t[0.11834501 0.        ]        \t[0.40597403 1.        ]\t[0.76661339 1.        ]  \n",
      "27 \t453   \t[0.73300069 1.006     ]    \t[0.05767039 0.07722694]        \t[0.4069031 1.       ]  \t[0.76661339 2.        ]  \n",
      "28 \t442   \t[0.71616214 1.01      ]    \t[0.08854609 0.09949874]        \t[0.42067266 1.        ]\t[0.76661339 2.        ]  \n",
      "29 \t447   \t[0.71543905 1.01      ]    \t[0.09222308 0.11789826]        \t[0.40597403 1.        ]\t[0.76661339 3.        ]  \n",
      "30 \t418   \t[0.69860819 1.012     ]    \t[0.1150955  0.12592061]        \t[0.40597403 1.        ]\t[0.76661339 3.        ]  \n",
      "31 \t464   \t[-19.29961164   1.004     ]\t[4.46797526e+02 8.93532316e-02]\t[-10000.      0.]      \t[0.76661339 2.        ]  \n",
      "32 \t438   \t[0.71795181 1.008     ]    \t[0.09178824 0.08908423]        \t[0.40597403 1.        ]\t[0.76661339 2.        ]  \n",
      "33 \t452   \t[0.72546379 1.006     ]    \t[0.07578882 0.07722694]        \t[0.42241092 1.        ]\t[0.76661339 2.        ]  \n",
      "34 \t446   \t[0.73517851 1.018     ]    \t[0.05435384 0.17226723]        \t[0.42241092 1.        ]\t[0.76661339 3.        ]  \n",
      "35 \t453   \t[0.73457756 1.018     ]    \t[0.05376993 0.19410307]        \t[0.43064602 1.        ]\t[0.76661339 4.        ]  \n",
      "36 \t449   \t[0.73633305 1.01      ]    \t[0.05640971 0.13379088]        \t[0.38857476 1.        ]\t[0.76661339 3.        ]  \n",
      "37 \t451   \t[0.69355078 1.01      ]    \t[0.11986375 0.11789826]        \t[0.36315351 1.        ]\t[0.76661339 3.        ]  \n",
      "38 \t453   \t[0.73532979 1.006     ]    \t[0.05592018 0.13402985]        \t[0.41966367 1.        ]\t[0.76661339 4.        ]  \n",
      "39 \t450   \t[0.71279995 1.004     ]    \t[0.0997397  0.06311894]        \t[0.36315351 1.        ]\t[0.76661339 2.        ]  \n",
      "40 \t439   \t[0.70725477 1.        ]    \t[0.10132625 0.        ]        \t[0.41966367 1.        ]\t[0.76661339 1.        ]  \n",
      "41 \t455   \t[0.70038711 1.006     ]    \t[0.11674565 0.09981984]        \t[0.36315351 1.        ]\t[0.76661339 3.        ]  \n",
      "42 \t450   \t[0.69094757 1.004     ]    \t[0.1267456  0.06311894]        \t[0.36315351 1.        ]\t[0.76661339 2.        ]  \n",
      "43 \t449   \t[0.73307393 1.01      ]    \t[0.05769557 0.14798649]        \t[0.41966367 1.        ]\t[0.76661339 4.        ]  \n",
      "44 \t442   \t[-19.29770438   1.        ]\t[4.46797612e+02 6.32455532e-02]\t[-10000.      0.]      \t[0.76661339 2.        ]  \n",
      "45 \t446   \t[0.74318218 1.008     ]    \t[0.01022866 0.08908423]        \t[0.58926407 1.        ]\t[0.76661339 2.        ]  \n",
      "46 \t441   \t[0.74254028 1.016     ]    \t[0.01032621 0.1254751 ]        \t[0.59298701 1.        ]\t[0.76661339 2.        ]  \n",
      "47 \t465   \t[0.73248402 1.006     ]    \t[0.06258935 0.07722694]        \t[0.38047286 1.        ]\t[0.76661339 2.        ]  \n",
      "48 \t430   \t[-19.26714559   1.        ]\t[4.46798969e+02 6.32455532e-02]\t[-10000.      0.]      \t[0.76661339 2.        ]  \n",
      "49 \t427   \t[0.72371936 1.018     ]    \t[0.08078113 0.14722771]        \t[0.38047286 1.        ]\t[0.76661339 3.        ]  \n",
      "50 \t460   \t[0.7429163 1.012    ]      \t[0.01825056 0.10888526]        \t[0.39869464 1.        ]\t[0.76661339 2.        ]  \n",
      "51 \t436   \t[0.71497168 1.008     ]    \t[0.09779808 0.08908423]        \t[0.38047286 1.        ]\t[0.76661339 2.        ]  \n",
      "52 \t462   \t[-19.27733867   0.998     ]\t[4.46798517e+02 4.46766158e-02]\t[-10000.      0.]      \t[0.76661339 1.        ]  \n",
      "53 \t461   \t[-19.25844722   1.016     ]\t[4.46799355e+02 1.66565303e-01]\t[-10000.      0.]      \t[0.76661339 3.        ]  \n",
      "54 \t443   \t[0.72486055 1.01      ]    \t[0.08088872 0.09949874]        \t[0.38047286 1.        ]\t[0.76661339 2.        ]  \n",
      "55 \t446   \t[0.7161421 1.002    ]      \t[0.09857006 0.04467662]        \t[0.38047286 1.        ]\t[0.76661339 2.        ]  \n",
      "56 \t448   \t[0.74508422 1.004     ]    \t[0.00654037 0.08935323]        \t[0.68596071 1.        ]\t[0.76661339 3.        ]  \n",
      "57 \t442   \t[0.73370527 1.004     ]    \t[0.05909542 0.06311894]        \t[0.38679654 1.        ]\t[0.76661339 2.        ]  \n",
      "58 \t448   \t[0.74232525 1.008     ]    \t[0.00699404 0.12623787]        \t[0.67142191 1.        ]\t[0.76661339 3.        ]  \n",
      "59 \t440   \t[0.73438169 1.004     ]    \t[0.05228265 0.08935323]        \t[0.4287679 1.       ]  \t[0.76661339 3.        ]  \n",
      "60 \t445   \t[0.71588323 1.004     ]    \t[0.09562524 0.06311894]        \t[0.38679654 1.        ]\t[0.76661339 2.        ]  \n",
      "61 \t434   \t[0.73331096 1.008     ]    \t[0.05943659 0.109252  ]        \t[0.38679654 1.        ]\t[0.76661339 3.        ]  \n",
      "62 \t456   \t[0.74280298 1.        ]    \t[0.00565302 0.        ]        \t[0.72991009 1.        ]\t[0.76661339 1.        ]  \n",
      "63 \t456   \t[0.74311477 1.008     ]    \t[0.00553004 0.1411949 ]        \t[0.71928072 1.        ]\t[0.76661339 4.        ]  \n",
      "64 \t450   \t[0.73374226 1.006     ]    \t[0.0540826  0.07722694]        \t[0.4287679 1.       ]  \t[0.76661339 2.        ]  \n",
      "65 \t445   \t[0.72605722 1.014     ]    \t[0.08120549 0.14766178]        \t[0.38679654 1.        ]\t[0.76661339 3.        ]  \n",
      "66 \t462   \t[0.73401937 1.016     ]    \t[0.05385865 0.15409088]        \t[0.43062604 1.        ]\t[0.76661339 3.        ]  \n",
      "67 \t451   \t[0.74193765 1.022     ]    \t[0.00734116 0.15973728]        \t[0.662331 1.      ]    \t[0.76661339 3.        ]  \n"
     ]
    },
    {
     "name": "stdout",
     "output_type": "stream",
     "text": [
      "68 \t441   \t[0.72514428 1.022     ]    \t[0.07162095 0.18307376]        \t[0.4287679 1.       ]  \t[0.76661339 3.        ]  \n",
      "69 \t436   \t[0.73727686 1.032     ]    \t[0.04880175 0.23446961]        \t[0.43062604 1.        ]\t[0.76661339 5.        ]  \n",
      "70 \t440   \t[0.72757512 1.012     ]    \t[0.07290943 0.10888526]        \t[0.4287679 1.       ]  \t[0.76661339 2.        ]  \n",
      "71 \t457   \t[0.72360808 1.012     ]    \t[0.07447074 0.10888526]        \t[0.43062604 1.        ]\t[0.76661339 2.        ]  \n",
      "72 \t461   \t[0.74303902 1.012     ]    \t[0.00584031 0.10888526]        \t[0.67398934 1.        ]\t[0.76661339 2.        ]  \n",
      "73 \t456   \t[0.73269996 1.014     ]    \t[0.05393767 0.11749043]        \t[0.4287679 1.       ]  \t[0.76661339 2.        ]  \n",
      "74 \t454   \t[0.73286312 1.008     ]    \t[0.05448653 0.08908423]        \t[0.4287679 1.       ]  \t[0.76661339 2.        ]  \n",
      "75 \t457   \t[0.71769502 1.014     ]    \t[0.09107431 0.14766178]        \t[0.42788545 1.        ]\t[0.76661339 3.        ]  \n",
      "76 \t447   \t[0.74229724 1.02      ]    \t[0.01101908 0.18867962]        \t[0.61947719 1.        ]\t[0.76661339 3.        ]  \n",
      "77 \t449   \t[0.72475418 1.018     ]    \t[0.07291164 0.16023732]        \t[0.43153513 1.        ]\t[0.76661339 3.        ]  \n",
      "78 \t468   \t[-19.26846531   1.008     ]\t[4.46798909e+02 1.26237871e-01]\t[-10000.      0.]      \t[0.76661339 3.        ]  \n",
      "79 \t447   \t[0.73213445 1.018     ]    \t[0.05583234 0.17226723]        \t[0.41785215 1.        ]\t[0.76661339 3.        ]  \n",
      "80 \t443   \t[0.74248254 1.014     ]    \t[0.00682538 0.16063624]        \t[0.69885448 1.        ]\t[0.76661339 3.        ]  \n",
      "81 \t453   \t[0.72292955 1.014     ]    \t[0.07339444 0.14766178]        \t[0.42788545 1.        ]\t[0.76661339 3.        ]  \n",
      "82 \t466   \t[0.73039957 1.014     ]    \t[0.05301077 0.14766178]        \t[0.43153513 1.        ]\t[0.76661339 3.        ]  \n",
      "83 \t433   \t[0.73172459 1.014     ]    \t[0.05097978 0.14766178]        \t[0.4352048 1.       ]  \t[0.76661339 3.        ]  \n",
      "84 \t442   \t[0.72468444 1.004     ]    \t[0.07153612 0.08935323]        \t[0.42788545 1.        ]\t[0.76661339 3.        ]  \n",
      "85 \t458   \t[0.71438594 1.004     ]    \t[0.08946949 0.08935323]        \t[0.42788545 1.        ]\t[0.76661339 3.        ]  \n",
      "86 \t456   \t[-39.28882669   1.        ]\t[6.31234429e+02 8.94427191e-02]\t[-10000.      0.]      \t[0.76661339 2.        ]  \n",
      "87 \t443   \t[0.70705096 1.004     ]    \t[0.09729548 0.06311894]        \t[0.43153513 1.        ]\t[0.76661339 2.        ]  \n",
      "88 \t449   \t[0.72493362 1.016     ]    \t[0.07340935 0.14051334]        \t[0.4352048 1.       ]  \t[0.76661339 3.        ]  \n",
      "89 \t444   \t[0.71740537 1.        ]    \t[0.08632235 0.        ]        \t[0.42788545 1.        ]\t[0.76661339 1.        ]  \n",
      "90 \t440   \t[0.717292 1.006   ]        \t[0.0908002  0.09981984]        \t[0.41785215 1.        ]\t[0.76661339 3.        ]  \n",
      "91 \t439   \t[0.72685363 1.002     ]    \t[0.07205917 0.04467662]        \t[0.42788545 1.        ]\t[0.76661339 2.        ]  \n",
      "92 \t438   \t[0.73382932 1.014     ]    \t[0.05089446 0.14766178]        \t[0.43610057 1.        ]\t[0.76661339 3.        ]  \n",
      "93 \t442   \t[0.74267148 1.01      ]    \t[0.01498115 0.11789826]        \t[0.43337329 1.        ]\t[0.76661339 3.        ]  \n",
      "94 \t453   \t[0.72538954 1.016     ]    \t[0.0742179  0.15409088]        \t[0.41785215 1.        ]\t[0.76661339 3.        ]  \n",
      "95 \t447   \t[0.7351758 1.01     ]      \t[0.05432367 0.09949874]        \t[0.41785215 1.        ]\t[0.76661339 2.        ]  \n",
      "96 \t448   \t[0.74382076 1.002     ]    \t[0.00660392 0.04467662]        \t[0.73169497 1.        ]\t[0.76661339 2.        ]  \n",
      "97 \t437   \t[0.74489691 1.01      ]    \t[0.00655758 0.09949874]        \t[0.70564436 1.        ]\t[0.76661339 2.        ]  \n",
      "98 \t450   \t[0.73555711 1.018     ]    \t[0.05420932 0.14722771]        \t[0.41971029 1.        ]\t[0.76661339 3.        ]  \n",
      "99 \t448   \t[-19.25695468   1.004     ]\t[4.46799421e+02 8.93532316e-02]\t[-10000.      0.]      \t[0.76661339 2.        ]  \n",
      "100\t438   \t[0.73698651 1.01      ]    \t[0.05795332 0.13379088]        \t[0.39779221 1.        ]\t[0.76661339 3.        ]  \n"
     ]
    }
   ],
   "source": [
    "bga = GA_run(wgcna_y,\"bg_GA\")"
   ]
  },
  {
   "cell_type": "code",
   "execution_count": 36,
   "metadata": {
    "collapsed": true
   },
   "outputs": [
    {
     "name": "stdout",
     "output_type": "stream",
     "text": [
      "0\n",
      "Selecting features with genetic algorithm.\n",
      "gen\tnevals\tavg                      \tstd                      \tmin                    \tmax                        \n",
      "0  \t500   \t[ 0.55426345 66.986     ]\t[ 0.06480292 37.86737123]\t[0.34691309 1.        ]\t[  0.70536464 133.        ]\n",
      "1  \t446   \t[ 0.57403265 65.762     ]\t[ 0.0642516  32.04854686]\t[0.38873127 4.        ]\t[  0.74362637 132.        ]\n",
      "2  \t446   \t[ 0.58049984 60.206     ]\t[ 0.05819874 30.63056585]\t[ 0.41160506 10.        ]\t[  0.74362637 132.        ]\n",
      "3  \t451   \t[ 0.58972135 57.29      ]\t[ 0.05852687 28.24390023]\t[ 0.42632368 14.        ]\t[  0.74362637 126.        ]\n",
      "4  \t463   \t[ 0.59258708 51.39      ]\t[ 0.06085955 23.45817342]\t[ 0.38960706 16.        ]\t[  0.75271728 115.        ]\n",
      "5  \t432   \t[ 0.6081989 44.398    ]  \t[ 0.05764048 18.87759508]\t[ 0.40257409 18.        ]\t[  0.76734266 109.        ]\n",
      "6  \t452   \t[ 0.61757975 41.742     ]\t[ 0.05862399 15.36643862]\t[ 0.4315318 17.       ]  \t[  0.76734266 100.        ]\n",
      "7  \t470   \t[ 0.62162192 40.364     ]\t[ 0.0609043  12.83399797]\t[ 0.44900433 15.        ]\t[ 0.81209457 93.        ]  \n",
      "8  \t460   \t[ 0.63026803 39.23      ]\t[ 0.05670489 10.73615853]\t[ 0.44656344 17.        ]\t[ 0.81209457 87.        ]  \n",
      "9  \t448   \t[ 0.6329842 37.308    ]  \t[0.05812966 7.65853354]  \t[ 0.44951382 14.        ]\t[ 0.81209457 71.        ]  \n",
      "10 \t455   \t[ 0.63723703 36.494     ]\t[0.0615476  6.59802728]  \t[ 0.40544789 22.        ]\t[ 0.81209457 66.        ]  \n",
      "11 \t444   \t[ 0.64851254 35.774     ]\t[0.06303255 5.94869095]  \t[ 0.41341658 22.        ]\t[ 0.81209457 53.        ]  \n",
      "12 \t462   \t[ 0.65862483 36.116     ]\t[0.05445588 5.34963027]  \t[ 0.48784882 22.        ]\t[ 0.81209457 52.        ]  \n",
      "13 \t450   \t[ 0.66070223 36.396     ]\t[0.05592915 5.20645599]  \t[ 0.45553447 21.        ]\t[ 0.81209457 54.        ]  \n",
      "14 \t453   \t[ 0.66383163 36.122     ]\t[0.05890268 5.07455574]  \t[ 0.45737263 21.        ]\t[ 0.81209457 52.        ]  \n",
      "15 \t452   \t[ 0.67190123 35.894     ]\t[0.0535934  5.02262521]  \t[ 0.44439227 21.        ]\t[ 0.81209457 49.        ]  \n",
      "16 \t446   \t[ 0.67440768 35.912     ]\t[0.05566293 4.95784792]  \t[ 0.52380286 24.        ]\t[ 0.81472194 54.        ]  \n",
      "17 \t445   \t[ 0.68422789 35.772     ]\t[0.06032354 5.27295136]  \t[ 0.4434299 23.       ]  \t[ 0.82850483 54.        ]  \n",
      "18 \t446   \t[ 0.68685499 34.766     ]\t[0.0549223  5.02744905]  \t[ 0.43127206 23.        ]\t[ 0.82850483 50.        ]  \n",
      "19 \t449   \t[ 0.6921096 34.28     ]  \t[0.05255802 4.69527422]  \t[ 0.47315018 22.        ]\t[ 0.835671 49.      ]      \n",
      "20 \t451   \t[ 0.69830384 34.106     ]\t[0.05344826 4.69795317]  \t[ 0.52122211 23.        ]\t[ 0.84399933 48.        ]  \n",
      "21 \t450   \t[ 0.69633469 33.442     ]\t[0.0542817  4.63148313]  \t[ 0.50809524 22.        ]\t[ 0.84399933 49.        ]  \n",
      "22 \t456   \t[ 0.69084374 32.868     ]\t[0.05862926 4.476     ]  \t[ 0.50598402 20.        ]\t[ 0.84399933 48.        ]  \n",
      "23 \t452   \t[ 0.70199991 32.198     ]\t[0.05696531 4.17262459]  \t[ 0.45456543 21.        ]\t[ 0.84399933 43.        ]  \n",
      "24 \t460   \t[ 0.70954577 31.66      ]\t[0.05416252 4.31420908]  \t[ 0.50425241 21.        ]\t[ 0.84399933 45.        ]  \n",
      "25 \t454   \t[ 0.71297686 31.6       ]\t[0.05197152 4.38634244]  \t[ 0.54468531 21.        ]\t[ 0.84399933 45.        ]  \n",
      "26 \t450   \t[ 0.71603947 31.62      ]\t[0.05576814 4.14916859]  \t[ 0.52260739 21.        ]\t[ 0.84399933 45.        ]  \n",
      "27 \t442   \t[ 0.71168398 31.37      ]\t[0.0578124  3.81956804]  \t[ 0.49090909 21.        ]\t[ 0.85945388 42.        ]  \n",
      "28 \t451   \t[ 0.70916823 31.352     ]\t[0.05744022 3.79948628]  \t[ 0.51542791 21.        ]\t[ 0.85945388 42.        ]  \n",
      "29 \t450   \t[ 0.72090447 31.458     ]\t[0.05148271 3.81997853]  \t[ 0.56578755 18.        ]\t[ 0.86579088 41.        ]  \n",
      "30 \t422   \t[ 0.72792183 31.072     ]\t[0.05372095 3.59260574]  \t[ 0.57304029 17.        ]\t[ 0.86579088 40.        ]  \n",
      "31 \t449   \t[ 0.73085086 30.742     ]\t[0.04966802 3.46170998]  \t[ 0.55664336 18.        ]\t[ 0.86579088 39.        ]  \n",
      "32 \t466   \t[ 0.72876588 30.324     ]\t[0.04845384 3.31466801]  \t[ 0.5865701 18.       ]  \t[ 0.86579088 39.        ]  \n",
      "33 \t434   \t[ 0.73053191 30.022     ]\t[0.05206857 3.57512461]  \t[ 0.56750583 19.        ]\t[ 0.86579088 38.        ]  \n",
      "34 \t444   \t[ 0.73607199 29.552     ]\t[0.05255308 3.57984581]  \t[ 0.57747919 20.        ]\t[ 0.86579088 38.        ]  \n",
      "35 \t457   \t[ 0.73607217 29.304     ]\t[0.0513238  3.39758502]  \t[ 0.55296703 21.        ]\t[ 0.86579088 37.        ]  \n",
      "36 \t421   \t[ 0.73699815 29.256     ]\t[0.05882506 3.54153413]  \t[ 0.53666334 20.        ]\t[ 0.87766234 38.        ]  \n",
      "37 \t416   \t[ 0.74362979 29.284     ]\t[0.05416055 3.61487814]  \t[ 0.56588745 20.        ]\t[ 0.87766234 39.        ]  \n",
      "38 \t452   \t[ 0.74297089 29.01      ]\t[0.05162648 3.63894215]  \t[ 0.58211122 20.        ]\t[ 0.87766234 39.        ]  \n",
      "39 \t446   \t[ 0.73790081 28.714     ]\t[0.0505308  3.71540092]  \t[ 0.57228438 20.        ]\t[ 0.87766234 38.        ]  \n",
      "40 \t447   \t[ 0.74243462 28.192     ]\t[0.05240945 3.46051094]  \t[ 0.52467199 19.        ]\t[ 0.87766234 37.        ]  \n",
      "41 \t447   \t[ 0.74435295 27.998     ]\t[0.05045165 3.67559465]  \t[ 0.49881119 19.        ]\t[ 0.87766234 38.        ]  \n",
      "42 \t451   \t[ 0.74747251 27.628     ]\t[0.05014756 3.31807414]  \t[ 0.55745255 19.        ]\t[ 0.87766234 37.        ]  \n",
      "43 \t452   \t[ 0.75234315 27.204     ]\t[0.05126338 3.18533891]  \t[ 0.56584083 18.        ]\t[ 0.87766234 38.        ]  \n",
      "44 \t451   \t[ 0.7555178 26.622    ]  \t[0.05012442 3.1226777 ]  \t[ 0.58391608 18.        ]\t[ 0.87946054 38.        ]  \n",
      "45 \t467   \t[ 0.7560724 26.47     ]  \t[0.04962672 3.33722939]  \t[ 0.50260073 18.        ]\t[ 0.87946054 36.        ]  \n",
      "46 \t446   \t[ 0.76250297 26.346     ]\t[0.04659351 3.05258644]  \t[ 0.59967699 18.        ]\t[ 0.87946054 35.        ]  \n",
      "47 \t442   \t[ 0.75885633 26.216     ]\t[0.04975926 3.07657992]  \t[ 0.55963037 18.        ]\t[ 0.87946054 35.        ]  \n",
      "48 \t463   \t[ 0.75911122 26.066     ]\t[0.05301417 2.9403476 ]  \t[ 0.56486513 18.        ]\t[ 0.87946054 38.        ]  \n",
      "49 \t446   \t[ 0.76559398 25.998     ]\t[0.05114564 2.94720138]  \t[ 0.56366966 17.        ]\t[ 0.87946054 38.        ]  \n",
      "50 \t440   \t[ 0.77034413 25.75      ]\t[0.05026522 2.72974358]  \t[ 0.59286047 17.        ]\t[ 0.87946054 33.        ]  \n",
      "51 \t447   \t[ 0.76839997 25.71      ]\t[0.04973095 2.57175038]  \t[ 0.59473193 17.        ]\t[ 0.87946054 34.        ]  \n",
      "52 \t449   \t[ 0.76868992 25.616     ]\t[0.04707235 2.85386475]  \t[ 0.55829504 17.        ]\t[ 0.87946054 34.        ]  \n",
      "53 \t437   \t[ 0.76764712 25.378     ]\t[0.04911768 2.99651731]  \t[ 0.5919314 18.       ]  \t[ 0.87946054 33.        ]  \n",
      "54 \t456   \t[ 0.76699136 25.184     ]\t[0.04850725 2.9096639 ]  \t[ 0.58477189 18.        ]\t[ 0.87946054 32.        ]  \n",
      "55 \t446   \t[ 0.76972374 25.138     ]\t[0.04801523 2.82753532]  \t[ 0.59468531 17.        ]\t[ 0.88774892 35.        ]  \n",
      "56 \t443   \t[ 0.77169318 25.058     ]\t[0.04922242 2.76525514]  \t[ 0.59301365 18.        ]\t[ 0.88774892 36.        ]  \n",
      "57 \t454   \t[ 0.7704005 25.022    ]  \t[0.05342746 2.66411636]  \t[ 0.59755245 17.        ]\t[ 0.89415917 34.        ]  \n",
      "58 \t440   \t[ 0.77703109 24.64      ]\t[0.04367764 2.62038165]  \t[ 0.61493173 17.        ]\t[ 0.89415917 32.        ]  \n",
      "59 \t456   \t[ 0.77589448 24.826     ]\t[0.04494318 2.74002263]  \t[ 0.56262071 16.        ]\t[ 0.89415917 33.        ]  \n",
      "60 \t454   \t[ 0.78033346 24.704     ]\t[0.04377101 3.06796089]  \t[ 0.63791875 16.        ]\t[ 0.89415917 34.        ]  \n",
      "61 \t446   \t[ 0.77749908 24.384     ]\t[0.04840789 2.83770048]  \t[ 0.62144855 16.        ]\t[ 0.89415917 32.        ]  \n",
      "62 \t458   \t[ 0.77133802 24.176     ]\t[0.05049651 2.66402402]  \t[ 0.60012654 15.        ]\t[ 0.89415917 31.        ]  \n",
      "63 \t460   \t[ 0.77741945 23.914     ]\t[0.04507926 2.59048335]  \t[ 0.59558109 17.        ]\t[ 0.89415917 32.        ]  \n",
      "64 \t429   \t[ 0.78638635 23.802     ]\t[0.04067742 2.39974915]  \t[ 0.64868798 16.        ]\t[ 0.89415917 32.        ]  \n",
      "65 \t442   \t[ 0.7860332 23.654    ]  \t[0.04152782 2.51759488]  \t[ 0.60953047 16.        ]\t[ 0.89415917 33.        ]  \n",
      "66 \t434   \t[ 0.78171709 23.538     ]\t[0.04707754 2.35468809]  \t[ 0.57951715 16.        ]\t[ 0.89415917 32.        ]  \n",
      "67 \t452   \t[ 0.78026995 23.25      ]\t[0.04642014 2.33997863]  \t[ 0.62492507 16.        ]\t[ 0.8997003 33.       ]    \n",
      "68 \t443   \t[ 0.78435766 23.358     ]\t[0.04728118 2.21220162]  \t[ 0.57080919 16.        ]\t[ 0.8997003 32.       ]    \n"
     ]
    },
    {
     "name": "stdout",
     "output_type": "stream",
     "text": [
      "69 \t440   \t[ 0.78912356 23.258     ]\t[0.04581938 2.07061247]  \t[ 0.62859474 17.        ]\t[ 0.90867133 30.        ]  \n",
      "70 \t451   \t[ 0.78314615 23.116     ]\t[0.04896921 2.00163533]  \t[ 0.63378954 17.        ]\t[ 0.90867133 34.        ]  \n",
      "71 \t454   \t[ 0.7877896 23.148    ]  \t[0.04182348 1.97131834]  \t[ 0.61591409 18.        ]\t[ 0.90867133 33.        ]  \n",
      "72 \t442   \t[ 0.79177423 23.18      ]\t[0.04442253 1.86      ]  \t[ 0.63642691 18.        ]\t[ 0.90867133 30.        ]  \n",
      "73 \t464   \t[ 0.79444833 23.13      ]\t[0.04835997 1.74845646]  \t[ 0.53852148 18.        ]\t[ 0.90867133 29.        ]  \n",
      "74 \t440   \t[ 0.79172165 22.886     ]\t[0.041448   1.75641795]  \t[ 0.59699634 19.        ]\t[ 0.90867133 33.        ]  \n",
      "75 \t453   \t[ 0.78826421 22.836     ]\t[0.04667159 1.76553221]  \t[ 0.61682318 18.        ]\t[ 0.90867133 34.        ]  \n",
      "76 \t446   \t[ 0.79005858 22.836     ]\t[0.04429749 1.6950233 ]  \t[ 0.62398934 19.        ]\t[ 0.90867133 32.        ]  \n",
      "77 \t460   \t[ 0.78804538 22.958     ]\t[0.04790234 1.71120893]  \t[ 0.6453047 19.       ]  \t[ 0.90867133 32.        ]  \n",
      "78 \t456   \t[ 0.78531377 22.962     ]\t[0.05309318 1.62128221]  \t[ 0.60044622 20.        ]\t[ 0.90867133 32.        ]  \n",
      "79 \t452   \t[ 0.78929177 23.064     ]\t[0.0494068  1.40282002]  \t[ 0.60044622 19.        ]\t[ 0.90867133 29.        ]  \n",
      "80 \t439   \t[ 0.78847282 23.046     ]\t[0.04711915 1.4155861 ]  \t[ 0.6351049 20.       ]  \t[ 0.90867133 30.        ]  \n",
      "81 \t439   \t[ 0.79532378 23.044     ]\t[0.04573138 1.45260593]  \t[ 0.56682318 20.        ]\t[ 0.90867133 29.        ]  \n",
      "82 \t450   \t[ 0.78936885 22.882     ]\t[0.04824511 1.33119345]  \t[ 0.57215784 20.        ]\t[ 0.90867133 27.        ]  \n",
      "83 \t446   \t[ 0.79575476 22.786     ]\t[0.04300486 1.50206658]  \t[ 0.56413586 19.        ]\t[ 0.90867133 32.        ]  \n",
      "84 \t467   \t[ 0.79717761 22.62      ]\t[0.04380053 1.48983221]  \t[ 0.62837496 18.        ]\t[ 0.90867133 30.        ]  \n",
      "85 \t460   \t[ 0.79502049 22.528     ]\t[0.04520345 1.4315083 ]  \t[ 0.62560773 18.        ]\t[ 0.90867133 30.        ]  \n",
      "86 \t450   \t[ 0.79501832 22.412     ]\t[0.04548754 1.4853471 ]  \t[ 0.6408991 18.       ]  \t[ 0.90867133 33.        ]  \n",
      "87 \t437   \t[ 0.79697279 22.296     ]\t[0.04349233 1.32226472]  \t[ 0.64890776 18.        ]\t[ 0.90867133 27.        ]  \n",
      "88 \t439   \t[ 0.79165363 22.424     ]\t[0.05055212 1.5073898 ]  \t[ 0.58501166 19.        ]\t[ 0.90867133 29.        ]  \n",
      "89 \t442   \t[ 0.79629901 22.374     ]\t[0.04357835 1.34689421]  \t[ 0.63785881 19.        ]\t[ 0.90867133 28.        ]  \n",
      "90 \t434   \t[ 0.79508646 22.178     ]\t[0.04301346 1.46229819]  \t[ 0.62927739 19.        ]\t[ 0.90867133 32.        ]  \n",
      "91 \t432   \t[ 0.79296153 22.054     ]\t[0.04465029 1.3751669 ]  \t[ 0.60748585 19.        ]\t[ 0.90867133 30.        ]  \n",
      "92 \t464   \t[ 0.79179198 21.968     ]\t[0.0471567  1.32927649]  \t[ 0.57292041 18.        ]\t[ 0.90867133 30.        ]  \n",
      "93 \t458   \t[ 0.80116209 21.98      ]\t[0.04150563 1.3067517 ]  \t[ 0.64512488 19.        ]\t[ 0.90867133 31.        ]  \n",
      "94 \t454   \t[ 0.80287889 21.946     ]\t[0.04129878 1.43495087]  \t[ 0.63874792 19.        ]\t[ 0.90867133 33.        ]  \n",
      "95 \t455   \t[ 0.8017552 21.982    ]  \t[0.04177746 1.44695404]  \t[ 0.64335331 19.        ]\t[ 0.90867133 32.        ]  \n",
      "96 \t443   \t[ 0.80367534 21.9       ]\t[0.04328619 1.29846063]  \t[ 0.63869464 19.        ]\t[ 0.90867133 27.        ]  \n",
      "97 \t449   \t[ 0.79692097 22.046     ]\t[0.04178799 1.42824508]  \t[ 0.64144189 19.        ]\t[ 0.90867133 29.        ]  \n",
      "98 \t448   \t[ 0.7962713 22.178    ]  \t[0.04200428 1.41926601]  \t[ 0.62307359 19.        ]\t[ 0.90867133 30.        ]  \n",
      "99 \t451   \t[ 0.79717435 22.076     ]\t[0.03908488 1.22401961]  \t[ 0.60952381 19.        ]\t[ 0.90867133 28.        ]  \n",
      "100\t458   \t[ 0.79535584 22.186     ]\t[0.04521175 1.2897302 ]  \t[ 0.64209124 19.        ]\t[ 0.90867133 28.        ]  \n"
     ]
    }
   ],
   "source": [
    "mga = GA_run(wgcna_m,\"mig_GA\")"
   ]
  },
  {
   "cell_type": "code",
   "execution_count": 37,
   "metadata": {
    "collapsed": true
   },
   "outputs": [
    {
     "name": "stdout",
     "output_type": "stream",
     "text": [
      "0\n",
      "Selecting features with genetic algorithm.\n",
      "gen\tnevals\tavg                      \tstd                      \tmin                  \tmax                      \n",
      "0  \t500   \t[ 0.50876224 24.618     ]\t[ 0.0638722  13.96395632]\t[0.3376024 1.       ]\t[ 0.69316683 48.        ]\n",
      "1  \t450   \t[ 0.51567866 19.162     ]\t[ 0.0699235  13.48049539]\t[0.30031635 1.        ]\t[ 0.69316683 47.        ]\n",
      "2  \t437   \t[-19.45543967  14.046     ]\t[446.79054153  11.35164675]\t[-10000.      0.]      \t[ 0.69896104 44.        ]\n",
      "3  \t455   \t[-39.44596697   9.586     ]\t[631.22446714   8.10349332]\t[-10000.      0.]      \t[ 0.70997003 43.        ]\n",
      "4  \t460   \t[-19.43096206   7.        ]\t[446.79163613   5.96556787]\t[-10000.      0.]      \t[ 0.70997003 39.        ]\n",
      "5  \t454   \t[-59.42542044   5.37      ]\t[772.31402677   4.0646156 ]\t[-10000.      0.]      \t[ 0.70997003 24.        ]\n",
      "6  \t463   \t[-99.4059977   4.744    ]  \t[995.04713805   3.33143573]\t[-10000.      0.]      \t[ 0.70997003 19.        ]\n",
      "7  \t456   \t[-119.39484015    4.484     ]\t[1088.91930151    2.85267313]\t[-10000.      0.]      \t[ 0.71355311 14.        ]\n",
      "8  \t449   \t[-19.38155265   4.564     ]  \t[446.79384633   2.68139963]  \t[-10000.      0.]      \t[ 0.72257076 14.        ]\n",
      "9  \t464   \t[-59.38185173   4.262     ]  \t[772.31741051   2.67083433]  \t[-10000.      0.]      \t[ 0.7326973 13.       ]  \n",
      "10 \t457   \t[0.63178143 3.976     ]      \t[0.04912714 2.40819933]      \t[0.46162504 1.        ]\t[ 0.73993007 12.        ]\n",
      "11 \t450   \t[0.63989293 3.584     ]      \t[0.04627773 2.10782922]      \t[0.42609724 1.        ]\t[ 0.73993007 11.        ]\n",
      "12 \t463   \t[0.6491974 3.286    ]        \t[0.04428166 2.01102064]      \t[0.43704629 1.        ]\t[ 0.74463536 10.        ]\n",
      "13 \t463   \t[0.65710279 3.272     ]      \t[0.0441991  1.87136741]      \t[0.45885781 1.        ]\t[ 0.74463536 10.        ]\n",
      "14 \t450   \t[0.66003925 3.214     ]      \t[0.04251415 1.74820022]      \t[0.49282717 1.        ]\t[ 0.74463536 10.        ]\n",
      "15 \t427   \t[0.66972726 3.23      ]      \t[0.03940111 1.41601554]      \t[0.48651016 1.        ]\t[ 0.74463536 10.        ]\n",
      "16 \t450   \t[0.66307574 3.332     ]      \t[0.05058273 1.14445446]      \t[0.43980686 1.        ]\t[ 0.74463536 10.        ]\n",
      "17 \t438   \t[0.66736671 3.342     ]      \t[0.04584284 0.91489672]      \t[0.49251415 1.        ]\t[0.74463536 8.        ]  \n",
      "18 \t460   \t[0.67669421 3.39      ]      \t[0.04898309 0.83540409]      \t[0.431332 1.      ]    \t[0.74463536 7.        ]  \n",
      "19 \t450   \t[0.68056122 3.234     ]      \t[0.04002448 0.66576572]      \t[0.49251415 2.        ]\t[0.74463536 7.        ]  \n",
      "20 \t464   \t[0.66891377 3.216     ]      \t[0.04922046 0.65218402]      \t[0.49164502 2.        ]\t[0.74463536 7.        ]  \n",
      "21 \t456   \t[0.67700222 3.156     ]      \t[0.04225927 0.62901828]      \t[0.46627706 2.        ]\t[0.74463536 9.        ]  \n",
      "22 \t446   \t[0.68311508 3.14      ]      \t[0.04461296 0.52573758]      \t[0.54175824 2.        ]\t[0.74463536 6.        ]  \n",
      "23 \t452   \t[0.6797262 3.134    ]        \t[0.03826286 0.4858436 ]      \t[0.55283383 3.        ]\t[0.74463536 6.        ]  \n",
      "24 \t458   \t[0.66837703 3.166     ]      \t[0.05114487 0.52387403]      \t[0.54746587 3.        ]\t[0.74463536 6.        ]  \n",
      "25 \t460   \t[0.68963919 3.176     ]      \t[0.03259774 0.55948548]      \t[0.57286713 3.        ]\t[0.74463536 6.        ]  \n",
      "26 \t448   \t[0.68024967 3.186     ]      \t[0.03697126 0.66588588]      \t[0.55127539 3.        ]\t[ 0.74463536 10.        ]\n",
      "27 \t438   \t[0.67754308 3.102     ]      \t[0.03442344 0.43312354]      \t[0.58849484 3.        ]\t[0.74463536 7.        ]  \n",
      "28 \t439   \t[0.6780107 3.116    ]        \t[0.04165621 0.5463918 ]      \t[0.53454545 3.        ]\t[0.74463536 7.        ]  \n",
      "29 \t455   \t[0.68350318 3.126     ]      \t[0.04032218 0.51587208]      \t[0.52943723 3.        ]\t[0.74463536 7.        ]  \n",
      "30 \t448   \t[0.67959897 3.098     ]      \t[0.04505961 0.48207468]      \t[0.5320646 3.       ]  \t[0.74463536 7.        ]  \n",
      "31 \t455   \t[0.69031938 3.116     ]      \t[0.0330337  0.56792957]      \t[0.546337 3.      ]    \t[ 0.74463536 10.        ]\n",
      "32 \t444   \t[0.67926621 3.078     ]      \t[0.04138262 0.36320242]      \t[0.56578755 3.        ]\t[0.74463536 6.        ]  \n",
      "33 \t453   \t[0.69613779 3.104     ]      \t[0.02864062 0.47030203]      \t[0.5684682 3.       ]  \t[0.74463536 8.        ]  \n",
      "34 \t454   \t[0.69430327 3.086     ]      \t[0.0262466  0.42261566]      \t[0.56468531 3.        ]\t[0.74463536 6.        ]  \n",
      "35 \t447   \t[0.69334601 3.12      ]      \t[0.03282883 0.52306787]      \t[0.55582085 3.        ]\t[0.74463536 7.        ]  \n",
      "36 \t474   \t[0.67946147 3.094     ]      \t[0.03865958 0.5071134 ]      \t[0.56038628 3.        ]\t[0.74463536 8.        ]  \n",
      "37 \t456   \t[0.68794986 3.08      ]      \t[0.03624829 0.42142615]      \t[0.50184482 3.        ]\t[0.74463536 6.        ]  \n",
      "38 \t448   \t[0.68428581 3.066     ]      \t[0.037712   0.46652331]      \t[0.49190476 3.        ]\t[0.74463536 8.        ]  \n",
      "39 \t456   \t[0.69205826 3.084     ]      \t[0.03485027 0.49491818]      \t[0.56300699 3.        ]\t[0.74463536 9.        ]  \n",
      "40 \t440   \t[0.68700118 3.076     ]      \t[0.03324384 0.47140641]      \t[0.59687646 3.        ]\t[0.74463536 8.        ]  \n",
      "41 \t435   \t[0.68435662 3.078     ]      \t[0.03560143 0.48157658]      \t[0.54552115 3.        ]\t[0.74463536 9.        ]  \n",
      "42 \t448   \t[0.68112849 3.066     ]      \t[0.04161721 0.42147835]      \t[0.50471195 3.        ]\t[0.74463536 6.        ]  \n",
      "43 \t449   \t[0.68143265 3.104     ]      \t[0.03875362 0.49110488]      \t[0.52910423 3.        ]\t[0.74463536 6.        ]  \n",
      "44 \t448   \t[0.68649384 3.106     ]      \t[0.03220258 0.51649201]      \t[0.55280719 3.        ]\t[0.74463536 7.        ]  \n",
      "45 \t456   \t[0.6807223 3.124    ]        \t[0.039187   0.52973956]      \t[0.53191142 3.        ]\t[0.74463536 6.        ]  \n",
      "46 \t442   \t[0.67171413 3.15      ]      \t[0.04779056 0.5687706 ]      \t[0.55905095 3.        ]\t[0.74463536 6.        ]  \n",
      "47 \t456   \t[0.67593301 3.142     ]      \t[0.04309269 0.60152805]      \t[0.49835498 3.        ]\t[0.74463536 8.        ]  \n",
      "48 \t453   \t[0.68683621 3.128     ]      \t[0.04242288 0.52499143]      \t[0.51745255 3.        ]\t[0.74463536 7.        ]  \n",
      "49 \t456   \t[0.68061612 3.104     ]      \t[0.03822909 0.44405405]      \t[0.52304695 3.        ]\t[0.74463536 6.        ]  \n",
      "50 \t455   \t[0.66976863 3.156     ]      \t[0.04588616 0.6030456 ]      \t[0.55905095 3.        ]\t[ 0.74463536 10.        ]\n",
      "51 \t442   \t[0.67418089 3.222     ]      \t[0.05132    0.72160654]      \t[0.53191142 3.        ]\t[ 0.74538462 10.        ]\n",
      "52 \t452   \t[0.68729879 3.18      ]      \t[0.0400372  0.73729234]      \t[0.52273393 3.        ]\t[ 0.74538462 10.        ]\n",
      "53 \t450   \t[0.67973335 3.12      ]      \t[0.04281261 0.56709788]      \t[0.54927073 3.        ]\t[ 0.74538462 10.        ]\n",
      "54 \t448   \t[0.6840491 3.08     ]        \t[0.04083392 0.39191836]      \t[0.54457209 3.        ]\t[0.74538462 7.        ]  \n",
      "55 \t450   \t[0.69024619 3.056     ]      \t[0.03635631 0.31122982]      \t[0.48367632 3.        ]\t[0.74538462 7.        ]  \n",
      "56 \t433   \t[0.68411795 3.032     ]      \t[0.04557845 0.22577865]      \t[0.54681652 3.        ]\t[0.74538462 6.        ]  \n",
      "57 \t418   \t[0.6858931 3.04     ]        \t[0.03961651 0.33226495]      \t[0.5502664 3.       ]  \t[0.74538462 7.        ]  \n",
      "58 \t452   \t[0.67151302 3.024     ]      \t[0.04594295 0.16560193]      \t[0.55905095 3.        ]\t[0.74538462 5.        ]  \n",
      "59 \t450   \t[0.68508935 3.076     ]      \t[0.0432677  0.36086563]      \t[0.55905095 3.        ]\t[0.74538462 7.        ]  \n",
      "60 \t444   \t[0.68658603 3.098     ]      \t[0.03863771 0.40545777]      \t[0.52852814 3.        ]\t[0.74538462 8.        ]  \n",
      "61 \t432   \t[0.68748108 3.122     ]      \t[0.04150292 0.46380599]      \t[0.45508825 3.        ]\t[0.74538462 8.        ]  \n",
      "62 \t454   \t[0.68766154 3.108     ]      \t[0.0365222  0.34108064]      \t[0.55674326 3.        ]\t[0.74538462 6.        ]  \n",
      "63 \t452   \t[0.68550343 3.07      ]      \t[0.03682492 0.30512293]      \t[0.56928405 3.        ]\t[0.74538462 7.        ]  \n",
      "64 \t446   \t[0.68736801 3.088     ]      \t[0.04298916 0.3691287 ]      \t[0.43060939 3.        ]\t[0.74538462 7.        ]  \n",
      "65 \t462   \t[0.67798853 3.064     ]      \t[0.05069007 0.34044677]      \t[0.50911755 3.        ]\t[0.74538462 8.        ]  \n",
      "66 \t452   \t[0.67840328 3.058     ]      \t[0.04430373 0.31406369]      \t[0.53741259 2.        ]\t[0.74538462 7.        ]  \n",
      "67 \t448   \t[0.67723827 3.066     ]      \t[0.03998795 0.37100404]      \t[0.55047952 3.        ]\t[0.74538462 8.        ]  \n"
     ]
    },
    {
     "name": "stdout",
     "output_type": "stream",
     "text": [
      "68 \t440   \t[0.68063849 3.074     ]      \t[0.04070408 0.32942981]      \t[0.56766567 3.        ]\t[0.74538462 7.        ]  \n",
      "69 \t447   \t[0.67417709 3.058     ]      \t[0.04440085 0.25027185]      \t[0.5337629 3.       ]  \t[0.74538462 5.        ]  \n",
      "70 \t454   \t[0.66918899 3.1       ]      \t[0.04344619 0.36055513]      \t[0.49259407 3.        ]\t[0.74538462 6.        ]  \n",
      "71 \t461   \t[0.67735512 3.15      ]      \t[0.03503084 0.37881394]      \t[0.58492507 3.        ]\t[0.74538462 6.        ]  \n",
      "72 \t442   \t[0.68314589 3.176     ]      \t[0.03279511 0.45279576]      \t[0.55483849 3.        ]\t[0.74538462 8.        ]  \n",
      "73 \t450   \t[0.65972268 3.17      ]      \t[0.06503041 0.48280431]      \t[0.47887113 3.        ]\t[0.74538462 9.        ]  \n",
      "74 \t453   \t[0.66673824 3.154     ]      \t[0.04422429 0.47569318]      \t[0.51365634 2.        ]\t[0.74538462 8.        ]  \n",
      "75 \t448   \t[0.67480238 3.168     ]      \t[0.03501527 0.3997199 ]      \t[0.50311355 3.        ]\t[0.74538462 6.        ]  \n",
      "76 \t449   \t[0.67976334 3.17      ]      \t[0.04411865 0.47864392]      \t[0.54941725 3.        ]\t[0.74538462 7.        ]  \n",
      "77 \t458   \t[0.67115325 3.164     ]      \t[0.05143483 0.46163189]      \t[0.47887113 2.        ]\t[0.74538462 8.        ]  \n",
      "78 \t446   \t[0.6867106 3.134    ]        \t[0.03480423 0.37953129]      \t[0.55832168 2.        ]\t[0.74538462 7.        ]  \n",
      "79 \t449   \t[0.67719052 3.176     ]      \t[0.04979182 0.49094195]      \t[0.47887113 3.        ]\t[0.74538462 8.        ]  \n",
      "80 \t440   \t[0.68254841 3.136     ]      \t[0.03998073 0.37617017]      \t[0.4965035 3.       ]  \t[0.74538462 6.        ]  \n",
      "81 \t444   \t[0.67390133 3.14      ]      \t[0.04505899 0.39038443]      \t[0.49259407 3.        ]\t[0.74538462 6.        ]  \n",
      "82 \t446   \t[0.68721032 3.146     ]      \t[0.03497    0.49868226]      \t[0.54568765 3.        ]\t[0.74538462 9.        ]  \n",
      "83 \t458   \t[0.67224823 3.126     ]      \t[0.04100705 0.48386362]      \t[0.51893773 3.        ]\t[0.74538462 9.        ]  \n",
      "84 \t435   \t[0.68824989 3.118     ]      \t[0.03599516 0.35787707]      \t[0.55112221 3.        ]\t[0.74538462 6.        ]  \n",
      "85 \t442   \t[0.67967644 3.11      ]      \t[0.04348599 0.3548239 ]      \t[0.57119547 3.        ]\t[0.74538462 7.        ]  \n",
      "86 \t455   \t[0.68798141 3.108     ]      \t[0.0421153  0.34108064]      \t[0.55554779 3.        ]\t[0.74538462 6.        ]  \n",
      "87 \t452   \t[0.68608111 3.118     ]      \t[0.03515259 0.45615348]      \t[0.56205794 3.        ]\t[0.74538462 8.        ]  \n",
      "88 \t458   \t[0.67818614 3.114     ]      \t[0.04286481 0.32404321]      \t[0.57119547 3.        ]\t[0.74538462 5.        ]  \n",
      "89 \t454   \t[0.67557702 3.16      ]      \t[0.03912159 0.40792156]      \t[0.54002664 3.        ]\t[0.74538462 7.        ]  \n",
      "90 \t452   \t[0.67980013 3.256     ]      \t[0.03607185 0.54996727]      \t[0.54561439 3.        ]\t[0.74538462 8.        ]  \n",
      "91 \t432   \t[0.68120591 3.21      ]      \t[0.04898251 0.51176166]      \t[0.49719281 3.        ]\t[0.74538462 8.        ]  \n",
      "92 \t438   \t[0.68084017 3.206     ]      \t[0.04275418 0.4284437 ]      \t[0.48910423 3.        ]\t[0.74538462 6.        ]  \n",
      "93 \t450   \t[0.67562976 3.176     ]      \t[0.03791638 0.53011697]      \t[0.51451215 3.        ]\t[0.74538462 9.        ]  \n",
      "94 \t462   \t[0.673477 3.184   ]          \t[0.04943581 0.475546  ]      \t[0.49719281 3.        ]\t[0.74538462 8.        ]  \n",
      "95 \t455   \t[0.67784474 3.206     ]      \t[0.04974916 0.50553338]      \t[0.45314352 3.        ]\t[0.74538462 8.        ]  \n",
      "96 \t442   \t[0.67972834 3.16      ]      \t[0.04324876 0.48826222]      \t[0.54002664 2.        ]\t[0.74538462 9.        ]  \n",
      "97 \t456   \t[0.67751852 3.188     ]      \t[0.04456478 0.45678879]      \t[0.49719281 3.        ]\t[0.74538462 7.        ]  \n",
      "98 \t452   \t[0.68052867 3.134     ]      \t[0.03915428 0.37422453]      \t[0.57664336 3.        ]\t[0.74538462 7.        ]  \n",
      "99 \t420   \t[0.68362066 3.098     ]      \t[0.04782357 0.3231037 ]      \t[0.49719281 2.        ]\t[0.74538462 6.        ]  \n",
      "100\t452   \t[0.68586146 3.094     ]      \t[0.03886453 0.33039976]      \t[0.58125541 3.        ]\t[0.74538462 7.        ]  \n",
      "0\n",
      "Selecting features with genetic algorithm.\n",
      "gen\tnevals\tavg                    \tstd                    \tmin                    \tmax                      \n",
      "0  \t500   \t[0.57217066 9.004     ]\t[0.06668635 5.06122357]\t[0.29171495 1.        ]\t[ 0.72357975 18.        ]\n",
      "1  \t436   \t[-79.41512198   8.004     ]\t[890.89482382   4.59521316]\t[-10000.      0.]      \t[ 0.74798535 18.        ]\n",
      "2  \t449   \t[0.60744486 7.548     ]    \t[0.05411355 4.05804091]    \t[0.36433233 1.        ]\t[ 0.74798535 18.        ]\n",
      "3  \t452   \t[-19.37322226   6.45      ]\t[446.79421969   3.57540208]\t[-10000.      0.]      \t[ 0.74798535 17.        ]\n",
      "4  \t460   \t[-19.36922225   5.916     ]\t[446.79439878   3.15356053]\t[-10000.      0.]      \t[ 0.7555045 17.       ]  \n",
      "5  \t436   \t[-19.36926167   5.134     ]\t[446.79439717   2.53456979]\t[-10000.      0.]      \t[ 0.7555045 15.       ]  \n",
      "6  \t444   \t[0.65074561 4.788     ]    \t[0.0530394  2.30283651]    \t[0.42711289 1.        ]\t[ 0.7555045 12.       ]  \n",
      "7  \t448   \t[-19.34619991   4.622     ]\t[446.7954291    1.96649841]\t[-10000.      0.]      \t[ 0.75819847 11.        ]\n",
      "8  \t444   \t[0.66932271 4.532     ]    \t[0.04537824 1.73233253]    \t[0.42078921 1.        ]\t[ 0.75819847 10.        ]\n",
      "9  \t447   \t[0.67832276 4.558     ]    \t[0.04259069 1.63543144]    \t[0.50987346 1.        ]\t[ 0.75819847 11.        ]\n",
      "10 \t444   \t[0.6800043 4.546    ]      \t[0.04362168 1.53228065]    \t[0.53737263 1.        ]\t[0.77130536 9.        ]  \n",
      "11 \t437   \t[0.68317167 4.682     ]    \t[0.04869771 1.41734823]    \t[0.50726607 1.        ]\t[0.77130536 9.        ]  \n",
      "12 \t448   \t[0.68404334 4.788     ]    \t[0.04516195 1.34277921]    \t[0.51483849 1.        ]\t[0.77389277 8.        ]  \n",
      "13 \t461   \t[0.69078721 4.784     ]    \t[0.0436971  1.16505107]    \t[0.52659674 2.        ]\t[0.77389277 8.        ]  \n",
      "14 \t446   \t[0.69068328 4.628     ]    \t[0.0441701  1.07406517]    \t[0.47810856 2.        ]\t[0.77389277 8.        ]  \n",
      "15 \t442   \t[0.70084892 4.584     ]    \t[0.040526   0.91593886]    \t[0.50366966 3.        ]\t[0.77389277 8.        ]  \n",
      "16 \t455   \t[0.69451586 4.644     ]    \t[0.05198539 0.8609669 ]    \t[0.46348984 2.        ]\t[0.77389277 7.        ]  \n",
      "17 \t443   \t[0.68558465 4.596     ]    \t[0.05746707 0.8418931 ]    \t[0.45276057 2.        ]\t[0.77389277 7.        ]  \n",
      "18 \t459   \t[0.67913687 4.556     ]    \t[0.06110907 0.87342086]    \t[0.4381019 2.       ]  \t[0.77389277 8.        ]  \n",
      "19 \t465   \t[0.68896308 4.53      ]    \t[0.05391937 0.84917607]    \t[0.43360306 2.        ]\t[0.77389277 7.        ]  \n",
      "20 \t454   \t[0.69289196 4.468     ]    \t[0.04945706 0.81300431]    \t[0.53628372 3.        ]\t[0.77389277 7.        ]  \n",
      "21 \t448   \t[0.69059501 4.42      ]    \t[0.0497675  0.76915538]    \t[0.45446553 2.        ]\t[0.77389277 7.        ]  \n",
      "22 \t458   \t[0.69345269 4.536     ]    \t[0.05010421 0.78019485]    \t[0.55021978 3.        ]\t[0.77389277 6.        ]  \n",
      "23 \t455   \t[0.69792301 4.47      ]    \t[0.04459204 0.7675285 ]    \t[0.48555445 3.        ]\t[0.77451548 7.        ]  \n",
      "24 \t433   \t[0.70477267 4.45      ]    \t[0.03850911 0.81455509]    \t[0.58211788 3.        ]\t[0.77451548 7.        ]  \n",
      "25 \t460   \t[0.6990516 4.578    ]      \t[0.04082907 0.80988641]    \t[0.56657676 3.        ]\t[0.77451548 8.        ]  \n",
      "26 \t460   \t[0.69818965 4.734     ]    \t[0.03860676 0.84808254]    \t[0.56570763 3.        ]\t[0.77451548 7.        ]  \n",
      "27 \t449   \t[0.69564749 4.796     ]    \t[0.04602191 0.80646389]    \t[0.53842824 3.        ]\t[0.77451548 8.        ]  \n",
      "28 \t456   \t[0.69931132 4.81      ]    \t[0.04482904 0.77323994]    \t[0.55564103 2.        ]\t[0.77451548 9.        ]  \n",
      "29 \t432   \t[0.7009164 4.832    ]      \t[0.04528361 0.70126742]    \t[0.58668998 3.        ]\t[0.77451548 6.        ]  \n",
      "30 \t448   \t[0.69383964 4.854     ]    \t[0.04222952 0.684605  ]    \t[0.5838628 3.       ]  \t[0.77451548 7.        ]  \n",
      "31 \t444   \t[0.69790101 4.894     ]    \t[0.04289498 0.67436192]    \t[0.51443223 3.        ]\t[0.77451548 7.        ]  \n",
      "32 \t454   \t[0.70545173 4.882     ]    \t[0.04336346 0.66338224]    \t[0.57681652 3.        ]\t[0.77451548 7.        ]  \n",
      "33 \t458   \t[0.69955318 4.922     ]    \t[0.04111294 0.56206405]    \t[0.59388944 3.        ]\t[0.77451548 7.        ]  \n",
      "34 \t454   \t[0.68920823 4.972     ]    \t[0.03645218 0.61580516]    \t[0.56406926 3.        ]\t[0.77451548 8.        ]  \n"
     ]
    },
    {
     "name": "stdout",
     "output_type": "stream",
     "text": [
      "35 \t448   \t[0.69931952 4.92      ]    \t[0.04273631 0.64621978]    \t[0.52981352 3.        ]\t[0.77451548 7.        ]  \n",
      "36 \t457   \t[0.70438457 4.944     ]    \t[0.03782379 0.6138925 ]    \t[0.49331668 3.        ]\t[0.77451548 7.        ]  \n",
      "37 \t441   \t[0.69927853 5.004     ]    \t[0.05335937 0.49797992]    \t[0.52432567 3.        ]\t[0.77451548 7.        ]  \n",
      "38 \t457   \t[0.69284019 5.024     ]    \t[0.05071328 0.48106548]    \t[0.52738595 3.        ]\t[0.77451548 7.        ]  \n",
      "39 \t462   \t[0.69270936 5.074     ]    \t[0.04246997 0.42488116]    \t[0.52981352 3.        ]\t[0.77451548 7.        ]  \n",
      "40 \t452   \t[0.69346257 5.058     ]    \t[0.04946854 0.42265352]    \t[0.57586747 3.        ]\t[0.77451548 6.        ]  \n",
      "41 \t452   \t[0.71216793 5.046     ]    \t[0.03680727 0.43345588]    \t[0.52432567 3.        ]\t[0.77451548 6.        ]  \n",
      "42 \t453   \t[0.69868148 5.062     ]    \t[0.04697877 0.44514717]    \t[0.49331668 3.        ]\t[0.77451548 8.        ]  \n",
      "43 \t465   \t[0.70440806 5.034     ]    \t[0.04174116 0.33592261]    \t[0.5987013 4.       ]  \t[0.77451548 7.        ]  \n",
      "44 \t461   \t[0.6958737 5.06     ]      \t[0.04370699 0.34117444]    \t[0.56004662 4.        ]\t[0.77451548 7.        ]  \n",
      "45 \t438   \t[0.70529936 5.056     ]    \t[0.04356708 0.347655  ]    \t[0.55751249 4.        ]\t[0.77451548 7.        ]  \n",
      "46 \t440   \t[0.70466391 5.068     ]    \t[0.04975502 0.30883005]    \t[0.49895771 4.        ]\t[0.77451548 7.        ]  \n",
      "47 \t452   \t[0.70738404 5.078     ]    \t[0.04507991 0.29650632]    \t[0.58572095 4.        ]\t[0.77451548 7.        ]  \n",
      "48 \t456   \t[0.70103686 5.054     ]    \t[0.04527849 0.24307201]    \t[0.58875458 4.        ]\t[0.77451548 7.        ]  \n",
      "49 \t452   \t[0.7020778 5.078    ]      \t[0.0423371  0.30317652]    \t[0.60765901 5.        ]\t[0.77451548 8.        ]  \n",
      "50 \t453   \t[0.69185601 5.094     ]    \t[0.05750579 0.35378525]    \t[0.49895771 5.        ]\t[0.77451548 8.        ]  \n",
      "51 \t456   \t[0.69971435 5.086     ]    \t[0.04711279 0.32650268]    \t[0.48350982 5.        ]\t[0.77451548 7.        ]  \n",
      "52 \t450   \t[0.6972689 5.062    ]      \t[0.04338183 0.30025989]    \t[0.55763237 4.        ]\t[0.77451548 7.        ]  \n",
      "53 \t437   \t[0.70278645 5.048     ]    \t[0.0410521  0.27147007]    \t[0.60142857 4.        ]\t[0.78271728 7.        ]  \n",
      "54 \t441   \t[0.7036692 5.038    ]      \t[0.03825519 0.24608129]    \t[0.59141525 4.        ]\t[0.78271728 7.        ]  \n",
      "55 \t458   \t[0.70166172 5.054     ]    \t[0.03830074 0.2740146 ]    \t[0.61043956 4.        ]\t[0.78271728 7.        ]  \n",
      "56 \t458   \t[0.70337024 5.052     ]    \t[0.04369445 0.24758029]    \t[0.59408924 4.        ]\t[0.78271728 7.        ]  \n",
      "57 \t458   \t[0.69952065 5.048     ]    \t[0.0447262  0.24019992]    \t[0.60674326 4.        ]\t[0.78271728 7.        ]  \n",
      "58 \t457   \t[0.70691226 5.066     ]    \t[0.04062705 0.2639015 ]    \t[0.48438561 4.        ]\t[0.78271728 7.        ]  \n",
      "59 \t448   \t[0.6835515 5.04     ]      \t[0.05876641 0.19595918]    \t[0.49895771 5.        ]\t[0.78271728 6.        ]  \n",
      "60 \t455   \t[0.7019147 5.068    ]      \t[0.05306658 0.26716287]    \t[0.49895771 4.        ]\t[0.78271728 7.        ]  \n",
      "61 \t445   \t[0.70284484 5.044     ]    \t[0.04225121 0.27214702]    \t[0.59184482 4.        ]\t[0.78271728 8.        ]  \n",
      "62 \t454   \t[0.70040551 5.034     ]    \t[0.04223181 0.22100679]    \t[0.60138861 4.        ]\t[0.78271728 6.        ]  \n",
      "63 \t438   \t[0.70028611 5.048     ]    \t[0.03960739 0.222926  ]    \t[0.61043956 4.        ]\t[0.78271728 6.        ]  \n",
      "64 \t430   \t[0.70943621 5.042     ]    \t[0.04581869 0.20058913]    \t[0.58207792 5.        ]\t[0.78271728 6.        ]  \n",
      "65 \t454   \t[0.70170811 5.046     ]    \t[0.04465046 0.20948508]    \t[0.52401598 5.        ]\t[0.78271728 6.        ]  \n",
      "66 \t455   \t[0.70029495 5.036     ]    \t[0.04525855 0.19673332]    \t[0.58207792 4.        ]\t[0.78271728 6.        ]  \n",
      "67 \t426   \t[0.70016083 5.056     ]    \t[0.04386503 0.22992173]    \t[0.5437629 5.       ]  \t[0.78271728 6.        ]  \n",
      "68 \t460   \t[0.69686775 5.042     ]    \t[0.0399483  0.21962696]    \t[0.56096903 4.        ]\t[0.78271728 6.        ]  \n",
      "69 \t463   \t[0.70089449 5.046     ]    \t[0.04610557 0.2277806 ]    \t[0.52401598 4.        ]\t[0.78271728 6.        ]  \n",
      "70 \t450   \t[0.70462543 5.034     ]    \t[0.04642398 0.22987823]    \t[0.59655012 4.        ]\t[0.78271728 7.        ]  \n",
      "71 \t450   \t[0.6916623 5.034    ]      \t[0.05669508 0.19194791]    \t[0.52401598 4.        ]\t[0.78271728 6.        ]  \n",
      "72 \t441   \t[0.70902709 5.04      ]    \t[0.03986335 0.23323808]    \t[0.54054612 4.        ]\t[0.78271728 8.        ]  \n",
      "73 \t451   \t[0.70411086 5.032     ]    \t[0.0522923  0.22577865]    \t[0.5282018 4.       ]  \t[0.78271728 8.        ]  \n",
      "74 \t440   \t[0.70689158 5.036     ]    \t[0.04733895 0.19673332]    \t[0.58207792 4.        ]\t[0.78271728 6.        ]  \n",
      "75 \t440   \t[0.70083294 5.04      ]    \t[0.05238539 0.2059126 ]    \t[0.55749917 4.        ]\t[0.78271728 6.        ]  \n",
      "76 \t441   \t[0.70054448 5.044     ]    \t[0.04389318 0.24096473]    \t[0.61742591 4.        ]\t[0.78271728 7.        ]  \n",
      "77 \t454   \t[0.70782815 5.046     ]    \t[0.04978049 0.2277806 ]    \t[0.56483849 4.        ]\t[0.78271728 7.        ]  \n",
      "78 \t448   \t[0.69507432 5.032     ]    \t[0.05768451 0.176     ]    \t[0.52401598 5.        ]\t[0.78271728 6.        ]  \n",
      "79 \t453   \t[0.71770791 5.024     ]    \t[0.04786617 0.17726816]    \t[0.52401598 4.        ]\t[0.78271728 7.        ]  \n",
      "80 \t452   \t[0.69463138 5.03      ]    \t[0.05113219 0.21236761]    \t[0.52401598 4.        ]\t[0.78271728 7.        ]  \n",
      "81 \t446   \t[0.70139654 5.06      ]    \t[0.04456292 0.24576411]    \t[0.5862371 4.       ]  \t[0.78271728 6.        ]  \n",
      "82 \t434   \t[0.70711232 5.064     ]    \t[0.05611601 0.24475294]    \t[0.52401598 5.        ]\t[0.78271728 6.        ]  \n",
      "83 \t463   \t[0.7117484 5.084    ]      \t[0.04181373 0.30486718]    \t[0.59426906 5.        ]\t[0.78271728 8.        ]  \n",
      "84 \t438   \t[0.7115394 5.05     ]      \t[0.04510385 0.21794495]    \t[0.58718615 5.        ]\t[0.78271728 6.        ]  \n",
      "85 \t448   \t[0.69893146 5.046     ]    \t[0.04761794 0.21882413]    \t[0.56483849 4.        ]\t[0.78271728 6.        ]  \n",
      "86 \t452   \t[0.70522143 5.052     ]    \t[0.04267177 0.23936583]    \t[0.55938395 4.        ]\t[0.78271728 6.        ]  \n",
      "87 \t446   \t[0.71749726 5.048     ]    \t[0.03488385 0.2483868 ]    \t[0.61131535 5.        ]\t[0.78271728 8.        ]  \n",
      "88 \t448   \t[0.71180093 5.064     ]    \t[0.04535745 0.28966187]    \t[0.56483849 4.        ]\t[0.78271728 8.        ]  \n",
      "89 \t450   \t[0.70531552 5.074     ]    \t[0.04750222 0.29752983]    \t[0.5537629 4.       ]  \t[0.78271728 7.        ]  \n",
      "90 \t453   \t[0.70938864 5.062     ]    \t[0.03758566 0.29352342]    \t[0.5919647 4.       ]  \t[0.78271728 7.        ]  \n",
      "91 \t441   \t[0.7171397 5.036    ]      \t[0.03950649 0.25040767]    \t[0.58581419 4.        ]\t[0.78271728 7.        ]  \n",
      "92 \t460   \t[0.69677149 5.064     ]    \t[0.0436138  0.27550681]    \t[0.52916417 4.        ]\t[0.78271728 7.        ]  \n",
      "93 \t459   \t[0.70985602 5.096     ]    \t[0.04834545 0.31429922]    \t[0.5619647 5.       ]  \t[0.78271728 8.        ]  \n",
      "94 \t448   \t[0.69357586 5.07      ]    \t[0.05358873 0.29171904]    \t[0.5537629 4.       ]  \t[0.78271728 8.        ]  \n",
      "95 \t457   \t[0.70783604 5.098     ]    \t[0.04715428 0.29731465]    \t[0.5282684 5.       ]  \t[0.78922744 6.        ]  \n",
      "96 \t453   \t[0.70338908 5.122     ]    \t[0.05232178 0.33334067]    \t[0.56633034 5.        ]\t[0.78271728 7.        ]  \n",
      "97 \t454   \t[0.70655203 5.11      ]    \t[0.04271861 0.31288976]    \t[0.56633034 5.        ]\t[0.78922744 6.        ]  \n",
      "98 \t454   \t[0.70451719 5.118     ]    \t[0.03705569 0.34069928]    \t[0.60031968 4.        ]\t[0.78271728 7.        ]  \n",
      "99 \t444   \t[0.70020382 5.122     ]    \t[0.04143677 0.34513186]    \t[0.52099567 5.        ]\t[0.78271728 8.        ]  \n",
      "100\t452   \t[0.69793841 5.122     ]    \t[0.05041501 0.3508789 ]    \t[0.5318981 4.       ]  \t[0.78271728 7.        ]  \n",
      "0\n",
      "Selecting features with genetic algorithm.\n",
      "gen\tnevals\tavg                      \tstd                    \tmin                    \tmax                      \n",
      "0  \t500   \t[ 0.55008092 15.774     ]\t[0.06435887 8.56801751]\t[0.33018981 1.        ]\t[ 0.71424908 30.        ]\n",
      "1  \t443   \t[-19.43124326  14.566     ]\t[446.79162263   7.91414203]\t[-10000.      0.]      \t[ 0.71424908 30.        ]\n",
      "2  \t449   \t[ 0.57953155 13.04      ]  \t[0.05882775 7.59989474]    \t[0.3697003 1.       ]  \t[ 0.71424908 29.        ]\n"
     ]
    },
    {
     "name": "stdout",
     "output_type": "stream",
     "text": [
      "3  \t466   \t[ 0.5741638 12.476    ]    \t[0.06251686 7.00524261]    \t[0.32051615 1.        ]\t[ 0.71424908 30.        ]\n",
      "4  \t456   \t[ 0.59126904 10.872     ]  \t[0.05630536 6.04182224]    \t[0.38413253 1.        ]\t[ 0.71424908 27.        ]\n",
      "5  \t455   \t[-19.39888438  10.022     ]\t[446.79307143   5.58189179]\t[-10000.      0.]      \t[ 0.73241092 25.        ]\n",
      "6  \t436   \t[-19.39406785   9.122     ]\t[446.79328746   4.93346896]\t[-10000.      0.]      \t[ 0.75728938 24.        ]\n",
      "7  \t447   \t[0.61745938 7.818     ]    \t[0.05737484 4.04189015]    \t[0.40669331 1.        ]\t[ 0.75728938 21.        ]\n",
      "8  \t453   \t[0.61600282 7.65      ]    \t[0.0605998  3.71099717]    \t[0.35865801 1.        ]\t[ 0.75728938 19.        ]\n",
      "9  \t440   \t[0.62246156 7.266     ]    \t[0.05815717 3.19487778]    \t[0.41597736 1.        ]\t[ 0.75728938 16.        ]\n",
      "10 \t440   \t[0.62619124 6.798     ]    \t[0.05517434 2.9713963 ]    \t[0.39074925 1.        ]\t[ 0.75728938 18.        ]\n",
      "11 \t444   \t[0.62910938 6.362     ]    \t[0.05620749 2.54616496]    \t[0.41341658 2.        ]\t[ 0.75728938 16.        ]\n",
      "12 \t442   \t[0.64156869 6.192     ]    \t[0.05221866 2.37637034]    \t[0.43575758 1.        ]\t[ 0.75797203 15.        ]\n",
      "13 \t450   \t[0.64125307 6.248     ]    \t[0.05399436 2.36442297]    \t[0.39533467 1.        ]\t[ 0.75797203 14.        ]\n",
      "14 \t450   \t[0.64186425 6.434     ]    \t[0.05385421 2.10181921]    \t[0.40033633 1.        ]\t[ 0.75797203 12.        ]\n",
      "15 \t467   \t[0.64635614 6.248     ]    \t[0.05784078 1.97749741]    \t[0.38135198 1.        ]\t[ 0.75797203 12.        ]\n",
      "16 \t459   \t[0.65251622 6.56      ]    \t[0.05159658 1.96428104]    \t[0.44927073 2.        ]\t[ 0.75797203 13.        ]\n",
      "17 \t457   \t[0.65112281 6.794     ]    \t[0.05527389 1.98281719]    \t[0.47631036 2.        ]\t[ 0.75797203 13.        ]\n",
      "18 \t457   \t[0.65201662 6.738     ]    \t[0.05377049 1.93011813]    \t[0.38502165 3.        ]\t[ 0.75797203 14.        ]\n",
      "19 \t456   \t[0.65585718 6.588     ]    \t[0.04974012 1.63898017]    \t[0.47421911 3.        ]\t[ 0.76365967 12.        ]\n",
      "20 \t439   \t[0.6728241 6.39     ]      \t[0.04516024 1.46761712]    \t[0.44618382 2.        ]\t[ 0.76365967 12.        ]\n",
      "21 \t460   \t[0.6698738 6.312    ]      \t[0.04605597 1.45830587]    \t[0.5336297 3.       ]  \t[ 0.76365967 11.        ]\n",
      "22 \t457   \t[0.67015942 6.22      ]    \t[0.04956503 1.33251642]    \t[0.51542791 3.        ]\t[ 0.76365967 11.        ]\n",
      "23 \t457   \t[0.67798157 6.126     ]    \t[0.04416383 1.20587064]    \t[0.4717316 3.       ]  \t[ 0.76365967 10.        ]\n",
      "24 \t450   \t[0.67323495 6.024     ]    \t[0.04524568 1.11688137]    \t[0.46443223 3.        ]\t[ 0.76811855 10.        ]\n",
      "25 \t458   \t[0.66728561 6.012     ]    \t[0.04986891 1.14361532]    \t[0.47878455 3.        ]\t[ 0.76811855 12.        ]\n",
      "26 \t456   \t[0.67431628 5.942     ]    \t[0.04829594 1.09846984]    \t[0.44508825 3.        ]\t[ 0.76811855 12.        ]\n",
      "27 \t451   \t[0.67441042 5.908     ]    \t[0.05007516 1.07681753]    \t[0.43140526 3.        ]\t[0.76811855 9.        ]  \n",
      "28 \t440   \t[0.68128212 5.836     ]    \t[0.04316608 1.10503575]    \t[0.45601732 3.        ]\t[0.76811855 9.        ]  \n",
      "29 \t454   \t[0.67210943 5.718     ]    \t[0.04479386 1.0781818 ]    \t[0.52639028 3.        ]\t[0.76811855 9.        ]  \n",
      "30 \t445   \t[0.66984327 5.644     ]    \t[0.04545191 1.06454873]    \t[0.52373626 3.        ]\t[0.76811855 9.        ]  \n",
      "31 \t454   \t[0.671098 5.662   ]        \t[0.04652611 1.05249988]    \t[0.4998002 3.       ]  \t[0.76811855 9.        ]  \n",
      "32 \t447   \t[0.66729106 5.658     ]    \t[0.04638897 0.94711984]    \t[0.52834166 3.        ]\t[0.7744289 9.       ]    \n",
      "33 \t441   \t[0.66976912 5.704     ]    \t[0.05074198 0.95309181]    \t[0.53120213 3.        ]\t[ 0.7744289 10.       ]  \n",
      "34 \t454   \t[0.67929562 5.706     ]    \t[0.04416936 0.92063239]    \t[0.53097569 3.        ]\t[ 0.7744289 10.       ]  \n",
      "35 \t447   \t[0.67222121 5.61      ]    \t[0.04806321 0.9283857 ]    \t[0.5164036 3.       ]  \t[0.7744289 9.       ]    \n",
      "36 \t446   \t[0.68095313 5.634     ]    \t[0.05257594 0.93383296]    \t[0.46258741 3.        ]\t[0.7744289 9.       ]    \n",
      "37 \t438   \t[0.68000523 5.57      ]    \t[0.04989078 0.85387353]    \t[0.54374958 3.        ]\t[0.7744289 9.       ]    \n",
      "38 \t461   \t[0.66520388 5.62      ]    \t[0.05756961 0.95477746]    \t[0.4716983 3.       ]  \t[ 0.7744289 11.       ]  \n",
      "39 \t451   \t[0.67160842 5.552     ]    \t[0.05107934 0.86677333]    \t[0.4716983 4.       ]  \t[0.7744289 8.       ]    \n",
      "40 \t448   \t[0.67590735 5.546     ]    \t[0.05114649 0.81479077]    \t[0.4716983 4.       ]  \t[0.7744289 9.       ]    \n",
      "41 \t436   \t[0.67748316 5.47      ]    \t[0.04454688 0.78809898]    \t[0.50820846 4.        ]\t[0.7744289 8.       ]    \n",
      "42 \t446   \t[0.67820452 5.432     ]    \t[0.04486428 0.81078727]    \t[0.51014652 4.        ]\t[0.7744289 8.       ]    \n",
      "43 \t440   \t[0.67356187 5.41      ]    \t[0.04955079 0.78606615]    \t[0.48360306 4.        ]\t[0.7744289 9.       ]    \n",
      "44 \t460   \t[0.67421179 5.38      ]    \t[0.05366811 0.72083285]    \t[0.51109557 4.        ]\t[0.7744289 8.       ]    \n",
      "45 \t457   \t[0.67455474 5.352     ]    \t[0.045915   0.71560883]    \t[0.501998 4.      ]    \t[0.7744289 9.       ]    \n",
      "46 \t450   \t[0.67991678 5.404     ]    \t[0.04494528 0.67881072]    \t[0.50622378 4.        ]\t[0.7744289 8.       ]    \n",
      "47 \t456   \t[0.67161175 5.392     ]    \t[0.05618836 0.63429961]    \t[0.48903763 4.        ]\t[0.7744289 8.       ]    \n",
      "48 \t439   \t[0.6878441 5.428    ]      \t[0.04154851 0.66694528]    \t[0.50270729 4.        ]\t[0.7744289 9.       ]    \n",
      "49 \t454   \t[0.67520447 5.324     ]    \t[0.05043456 0.5958389 ]    \t[0.52115551 4.        ]\t[0.7744289 8.       ]    \n",
      "50 \t422   \t[0.67995544 5.308     ]    \t[0.05266282 0.58748277]    \t[0.51548785 4.        ]\t[0.7744289 8.       ]    \n",
      "51 \t445   \t[0.6664639 5.238    ]      \t[0.05151484 0.51512717]    \t[0.51548785 4.        ]\t[0.7744289 8.       ]    \n",
      "52 \t460   \t[0.67456159 5.216     ]    \t[0.0508685  0.47889874]    \t[0.4999334 4.       ]  \t[0.7744289 7.       ]    \n",
      "53 \t462   \t[0.66607941 5.19      ]    \t[0.05616843 0.48363209]    \t[0.49169164 4.        ]\t[0.7744289 7.       ]    \n",
      "54 \t449   \t[0.6859068 5.17     ]      \t[0.03698501 0.50705029]    \t[0.5337629 4.       ]  \t[0.7744289 7.       ]    \n",
      "55 \t446   \t[0.67642623 5.19      ]    \t[0.04882826 0.49183331]    \t[0.51715285 4.        ]\t[0.7744289 8.       ]    \n",
      "56 \t450   \t[0.68149728 5.104     ]    \t[0.0538438  0.39646437]    \t[0.49629704 4.        ]\t[0.7744289 8.       ]    \n",
      "57 \t442   \t[0.69625028 5.064     ]    \t[0.03254456 0.352     ]    \t[0.55752581 4.        ]\t[0.7744289 7.       ]    \n",
      "58 \t453   \t[0.67329511 5.064     ]    \t[0.04623964 0.3631859 ]    \t[0.5721645 4.       ]  \t[0.7744289 7.       ]    \n",
      "59 \t456   \t[0.67920308 5.064     ]    \t[0.0497706 0.3631859]      \t[0.51715285 4.        ]\t[0.7744289 7.       ]    \n",
      "60 \t448   \t[0.679787 5.078   ]        \t[0.04073175 0.40486541]    \t[0.58570763 4.        ]\t[ 0.7744289 10.       ]  \n",
      "61 \t477   \t[0.67780377 5.054     ]    \t[0.04541334 0.33329266]    \t[0.55302031 4.        ]\t[0.7744289 7.       ]    \n",
      "62 \t444   \t[0.68049446 5.064     ]    \t[0.0404108  0.30968371]    \t[0.5801332 4.       ]  \t[0.7744289 6.       ]    \n",
      "63 \t460   \t[0.68552059 5.062     ]    \t[0.03418977 0.29352342]    \t[0.59671662 4.        ]\t[0.7744289 7.       ]    \n",
      "64 \t447   \t[0.69062197 5.094     ]    \t[0.03481452 0.33639857]    \t[0.59671662 3.        ]\t[0.7744289 7.       ]    \n",
      "65 \t431   \t[0.68424201 5.08      ]    \t[0.03884915 0.31240999]    \t[0.5402331 3.       ]  \t[0.7744289 6.       ]    \n",
      "66 \t445   \t[0.67952596 5.1       ]    \t[0.03343689 0.38209946]    \t[0.58136863 3.        ]\t[0.7744289 8.       ]    \n",
      "67 \t462   \t[0.67434657 5.064     ]    \t[0.03446449 0.3631859 ]    \t[0.60755245 3.        ]\t[0.7744289 7.       ]    \n",
      "68 \t438   \t[0.67910466 5.158     ]    \t[0.0423608  0.40129291]    \t[0.54567433 4.        ]\t[0.7744289 8.       ]    \n",
      "69 \t440   \t[0.68244926 5.206     ]    \t[0.03809698 0.4284437 ]    \t[0.54472527 4.        ]\t[0.7744289 7.       ]    \n",
      "70 \t438   \t[0.68860639 5.2       ]    \t[0.0410164  0.43817805]    \t[0.57874126 4.        ]\t[0.7744289 9.       ]    \n",
      "71 \t454   \t[0.68492177 5.23      ]    \t[0.03342268 0.45727453]    \t[0.57225774 4.        ]\t[0.7744289 8.       ]    \n",
      "72 \t450   \t[0.68508976 5.192     ]    \t[0.04025473 0.4088227 ]    \t[0.53374292 4.        ]\t[0.7744289 7.       ]    \n",
      "73 \t447   \t[0.67868499 5.168     ]    \t[0.0452089  0.41925648]    \t[0.54556111 4.        ]\t[0.7744289 8.       ]    \n"
     ]
    },
    {
     "name": "stdout",
     "output_type": "stream",
     "text": [
      "74 \t452   \t[0.67197947 5.14      ]    \t[0.04723602 0.42      ]    \t[0.55099567 4.        ]\t[0.7744289 8.       ]    \n",
      "75 \t464   \t[0.66772468 5.116     ]    \t[0.04800826 0.4319074 ]    \t[0.53374292 4.        ]\t[0.7744289 8.       ]    \n",
      "76 \t457   \t[0.66889062 5.136     ]    \t[0.04728903 0.49950375]    \t[0.54400266 4.        ]\t[0.7744289 8.       ]    \n",
      "77 \t461   \t[0.6784058 5.18     ]      \t[0.04737235 0.48948953]    \t[0.44056943 4.        ]\t[0.7744289 8.       ]    \n",
      "78 \t455   \t[0.67429713 5.148     ]    \t[0.04424707 0.43138846]    \t[0.51180486 4.        ]\t[0.7744289 8.       ]    \n",
      "79 \t454   \t[0.67675887 5.126     ]    \t[0.04100179 0.43142091]    \t[0.56478521 4.        ]\t[ 0.7744289 10.       ]  \n",
      "80 \t438   \t[0.67360904 5.102     ]    \t[0.05187071 0.33999412]    \t[0.54304029 4.        ]\t[0.7744289 8.       ]    \n",
      "81 \t455   \t[0.68245592 5.084     ]    \t[0.03831128 0.29823481]    \t[0.5539627 5.       ]  \t[0.7744289 7.       ]    \n",
      "82 \t414   \t[0.67513909 5.046     ]    \t[0.04434896 0.27547051]    \t[0.43879121 4.        ]\t[0.7744289 9.       ]    \n",
      "83 \t442   \t[0.68807391 5.072     ]    \t[0.04191189 0.26611276]    \t[0.54400266 5.        ]\t[0.7744289 7.       ]    \n",
      "84 \t449   \t[0.68491283 5.098     ]    \t[0.04478625 0.32923548]    \t[0.51031302 5.        ]\t[0.7744289 7.       ]    \n",
      "85 \t442   \t[0.67840023 5.07      ]    \t[0.04382341 0.25514702]    \t[0.51031302 5.        ]\t[0.7744289 6.       ]    \n",
      "86 \t462   \t[0.67777508 5.05      ]    \t[0.04875443 0.22693611]    \t[0.51031302 5.        ]\t[0.7744289 7.       ]    \n",
      "87 \t454   \t[0.69555748 5.074     ]    \t[0.03353476 0.29073012]    \t[0.53035298 5.        ]\t[0.7744289 8.       ]    \n",
      "88 \t458   \t[0.66741626 5.072     ]    \t[0.05435415 0.30792207]    \t[0.47437895 5.        ]\t[0.7744289 8.       ]    \n",
      "89 \t452   \t[0.68243516 5.054     ]    \t[0.0386117  0.25116528]    \t[0.5902664 5.       ]  \t[0.7744289 8.       ]    \n",
      "90 \t454   \t[0.69429155 5.066     ]    \t[0.0389005  0.25621085]    \t[0.56293373 5.        ]\t[0.7744289 7.       ]    \n",
      "91 \t433   \t[0.6777977 5.052    ]      \t[0.05293405 0.31192307]    \t[0.54304029 5.        ]\t[0.7744289 9.       ]    \n",
      "92 \t444   \t[0.67380653 5.05      ]    \t[0.05152814 0.25980762]    \t[0.43253413 4.        ]\t[0.7744289 8.       ]    \n",
      "93 \t459   \t[0.6805326 5.05     ]      \t[0.0398134  0.28195744]    \t[0.57282051 4.        ]\t[0.7744289 9.       ]    \n",
      "94 \t444   \t[0.68232394 5.042     ]    \t[0.04573928 0.20058913]    \t[0.53649018 5.        ]\t[0.7744289 6.       ]    \n",
      "95 \t440   \t[0.68631217 5.07      ]    \t[0.03416072 0.3241913 ]    \t[0.58847486 4.        ]\t[0.7744289 9.       ]    \n",
      "96 \t442   \t[0.68810149 5.068     ]    \t[0.04685102 0.29559432]    \t[0.54110889 4.        ]\t[0.7744289 8.       ]    \n",
      "97 \t462   \t[0.67233566 5.062     ]    \t[0.04392918 0.33189757]    \t[0.54746587 5.        ]\t[0.7744289 8.       ]    \n",
      "98 \t452   \t[0.67186221 5.046     ]    \t[0.06024197 0.26054558]    \t[0.44536797 5.        ]\t[0.7744289 8.       ]    \n",
      "99 \t445   \t[0.67957955 5.034     ]    \t[0.04323372 0.22100679]    \t[0.41256743 4.        ]\t[0.7744289 8.       ]    \n",
      "100\t448   \t[0.67777903 5.034     ]    \t[0.05216304 0.21176402]    \t[0.53649018 5.        ]\t[0.7744289 8.       ]    \n"
     ]
    }
   ],
   "source": [
    "mig_bl = GA_run(blu,\"migb_GA\")\n",
    "mig_purplr = GA_run(pu,\"migp_GA\")\n",
    "mig_mag = GA_run(ma,\"migmag_GA\")"
   ]
  },
  {
   "cell_type": "markdown",
   "metadata": {},
   "source": [
    "# Result Summary"
   ]
  },
  {
   "cell_type": "code",
   "execution_count": 38,
   "metadata": {},
   "outputs": [],
   "source": [
    "plt_ = pd.concat([mga,mig_cbine,mig_bl,mig_purplr,mig_mag,all_re,ng_re])"
   ]
  },
  {
   "cell_type": "code",
   "execution_count": 39,
   "metadata": {},
   "outputs": [
    {
     "data": {
      "text/plain": [
       "<matplotlib.lines.Line2D at 0x7ffce18b65d0>"
      ]
     },
     "execution_count": 39,
     "metadata": {},
     "output_type": "execute_result"
    },
    {
     "data": {
      "image/png": "[encoded data removed]",
      "text/plain": [
       "<Figure size 1598x504 with 3 Axes>"
      ]
     },
     "metadata": {
      "needs_background": "light"
     },
     "output_type": "display_data"
    }
   ],
   "source": [
    "hue_order = ['Training', 'Validating', 'Testing']\n",
    "g = sns.catplot(x=\"N\", y=\"value\", hue=\"type\",col=\"cat\",kind=\"bar\",hue_order = hue_order,data=plt_,height=7)\n",
    "ax1, ax2,ax3 = g.axes[0]\n",
    "ax1.axhline(0.70,color=\"red\")\n",
    "ax2.axhline(0.70,color=\"red\")\n",
    "ax3.axhline(0.70,color=\"red\")"
   ]
  },
  {
   "cell_type": "markdown",
   "metadata": {},
   "source": [
    "## Confusion Matrix"
   ]
  },
  {
   "cell_type": "code",
   "execution_count": 20,
   "metadata": {},
   "outputs": [],
   "source": [
    "import numpy as np\n",
    "import matplotlib.pyplot as plt\n",
    "import seaborn as sns\n",
    "\n",
    "def make_confusion_matrix(cf,\n",
    "                          group_names=None,\n",
    "                          categories='auto',\n",
    "                          count=True,\n",
    "                          percent=True,\n",
    "                          cbar=True,\n",
    "                          xyticks=True,\n",
    "                          xyplotlabels=True,\n",
    "                          sum_stats=True,\n",
    "                          figsize=None,\n",
    "                          cmap='Blues',\n",
    "                          title=None):\n",
    "    '''\n",
    "    This function will make a pretty plot of an sklearn Confusion Matrix cm using a Seaborn heatmap visualization.\n",
    "    Arguments\n",
    "    ---------\n",
    "    cf:            confusion matrix to be passed in\n",
    "    group_names:   List of strings that represent the labels row by row to be shown in each square.\n",
    "    categories:    List of strings containing the categories to be displayed on the x,y axis. Default is 'auto'\n",
    "    count:         If True, show the raw number in the confusion matrix. Default is True.\n",
    "    normalize:     If True, show the proportions for each category. Default is True.\n",
    "    cbar:          If True, show the color bar. The cbar values are based off the values in the confusion matrix.\n",
    "                   Default is True.\n",
    "    xyticks:       If True, show x and y ticks. Default is True.\n",
    "    xyplotlabels:  If True, show 'True Label' and 'Predicted Label' on the figure. Default is True.\n",
    "    sum_stats:     If True, display summary statistics below the figure. Default is True.\n",
    "    figsize:       Tuple representing the figure size. Default will be the matplotlib rcParams value.\n",
    "    cmap:          Colormap of the values displayed from matplotlib.pyplot.cm. Default is 'Blues'\n",
    "                   See http://matplotlib.org/examples/color/colormaps_reference.html\n",
    "                   \n",
    "    title:         Title for the heatmap. Default is None.\n",
    "    '''\n",
    "\n",
    "\n",
    "    # CODE TO GENERATE TEXT INSIDE EACH SQUARE\n",
    "    blanks = ['' for i in range(cf.size)]\n",
    "\n",
    "    if group_names and len(group_names)==cf.size:\n",
    "        group_labels = [\"{}\\n\".format(value) for value in group_names]\n",
    "    else:\n",
    "        group_labels = blanks\n",
    "\n",
    "    if count:\n",
    "        group_counts = [\"{0:0.0f}\\n\".format(value) for value in cf.flatten()]\n",
    "    else:\n",
    "        group_counts = blanks\n",
    "\n",
    "    if percent:\n",
    "        group_percentages = [\"{0:.2%}\".format(value) for value in cf.flatten()/np.sum(cf)]\n",
    "    else:\n",
    "        group_percentages = blanks\n",
    "\n",
    "    box_labels = [f\"{v1}{v2}{v3}\".strip() for v1, v2, v3 in zip(group_labels,group_counts,group_percentages)]\n",
    "    box_labels = np.asarray(box_labels).reshape(cf.shape[0],cf.shape[1])\n",
    "\n",
    "\n",
    "    # CODE TO GENERATE SUMMARY STATISTICS & TEXT FOR SUMMARY STATS\n",
    "    if sum_stats:\n",
    "        #Accuracy is sum of diagonal divided by total observations\n",
    "        accuracy  = np.trace(cf) / float(np.sum(cf))\n",
    "\n",
    "        #if it is a binary confusion matrix, show some more stats\n",
    "        if len(cf)==2:\n",
    "            #Metrics for Binary Confusion Matrices\n",
    "            precision = cf[1,1] / sum(cf[:,1])\n",
    "            recall    = cf[1,1] / sum(cf[1,:])\n",
    "            f1_score  = 2*precision*recall / (precision + recall)\n",
    "            stats_text = \"\\n\\nAccuracy={:0.3f}\\nPrecision={:0.3f}\\nRecall={:0.3f}\\nF1 Score={:0.3f}\".format(\n",
    "                accuracy,precision,recall,f1_score)\n",
    "        else:\n",
    "            stats_text = \"\\n\\nAccuracy={:0.3f}\".format(accuracy)\n",
    "    else:\n",
    "        stats_text = \"\"\n",
    "\n",
    "\n",
    "    # SET FIGURE PARAMETERS ACCORDING TO OTHER ARGUMENTS\n",
    "    if figsize==None:\n",
    "        #Get default figure size if not set\n",
    "        figsize = plt.rcParams.get('figure.figsize')\n",
    "\n",
    "    if xyticks==False:\n",
    "        #Do not show categories if xyticks is False\n",
    "        categories=False\n",
    "\n",
    "\n",
    "    # MAKE THE HEATMAP VISUALIZATION\n",
    "    plt.figure(figsize=figsize)\n",
    "    sns.heatmap(cf,annot=box_labels,fmt=\"\",cmap=cmap,cbar=cbar,xticklabels=categories,yticklabels=categories)\n",
    "\n",
    "    if xyplotlabels:\n",
    "        plt.ylabel('True label')\n",
    "        plt.xlabel('Predicted label' + stats_text)\n",
    "    else:\n",
    "        plt.xlabel(stats_text)\n",
    "    \n",
    "    if title:\n",
    "        plt.title(title)"
   ]
  },
  {
   "cell_type": "code",
   "execution_count": 87,
   "metadata": {
    "collapsed": true
   },
   "outputs": [
    {
     "ename": "FileNotFoundError",
     "evalue": "[Errno 2] No such file or directory: 'variablemig_GA.pickle'",
     "output_type": "error",
     "traceback": [
      "\u001b[0;31m---------------------------------------------------------------------------\u001b[0m",
      "\u001b[0;31mFileNotFoundError\u001b[0m                         Traceback (most recent call last)",
      "\u001b[0;32m<ipython-input-87-82e9e752b159>\u001b[0m in \u001b[0;36m<module>\u001b[0;34m\u001b[0m\n\u001b[0;32m----> 1\u001b[0;31m \u001b[0mGA_mig\u001b[0m \u001b[0;34m=\u001b[0m \u001b[0mpickle\u001b[0m\u001b[0;34m.\u001b[0m\u001b[0mload\u001b[0m\u001b[0;34m(\u001b[0m\u001b[0mopen\u001b[0m\u001b[0;34m(\u001b[0m\u001b[0;34m\"variable\"\u001b[0m\u001b[0;34m+\u001b[0m\u001b[0;34m\"mig_GA\"\u001b[0m\u001b[0;34m+\u001b[0m\u001b[0;34m\".pickle\"\u001b[0m\u001b[0;34m,\u001b[0m \u001b[0;34m\"rb\"\u001b[0m\u001b[0;34m)\u001b[0m\u001b[0;34m)\u001b[0m\u001b[0;34m\u001b[0m\u001b[0;34m\u001b[0m\u001b[0m\n\u001b[0m\u001b[1;32m      2\u001b[0m \u001b[0mwgcna_x\u001b[0m \u001b[0;34m=\u001b[0m \u001b[0mnp\u001b[0m\u001b[0;34m.\u001b[0m\u001b[0marray\u001b[0m\u001b[0;34m(\u001b[0m\u001b[0mhippo_dataset\u001b[0m\u001b[0;34m[\u001b[0m\u001b[0mGA_mig\u001b[0m\u001b[0;34m]\u001b[0m\u001b[0;34m)\u001b[0m\u001b[0;34m\u001b[0m\u001b[0;34m\u001b[0m\u001b[0m\n\u001b[1;32m      3\u001b[0m \u001b[0mrnd_y\u001b[0m \u001b[0;34m=\u001b[0m \u001b[0mnp\u001b[0m\u001b[0;34m.\u001b[0m\u001b[0marray\u001b[0m\u001b[0;34m(\u001b[0m\u001b[0mhippo_dataset\u001b[0m\u001b[0;34m[\u001b[0m\u001b[0;34m\"cat\"\u001b[0m\u001b[0;34m]\u001b[0m\u001b[0;34m)\u001b[0m\u001b[0;34m\u001b[0m\u001b[0;34m\u001b[0m\u001b[0m\n\u001b[1;32m      4\u001b[0m \u001b[0mfeature\u001b[0m \u001b[0;34m=\u001b[0m \u001b[0mwgcna_x\u001b[0m\u001b[0;34m\u001b[0m\u001b[0;34m\u001b[0m\u001b[0m\n\u001b[1;32m      5\u001b[0m \u001b[0mlabel\u001b[0m \u001b[0;34m=\u001b[0m \u001b[0mrnd_y\u001b[0m\u001b[0;34m\u001b[0m\u001b[0;34m\u001b[0m\u001b[0m\n",
      "\u001b[0;31mFileNotFoundError\u001b[0m: [Errno 2] No such file or directory: 'variablemig_GA.pickle'"
     ]
    }
   ],
   "source": [
    "GA_mig = pickle.load(open(\"variable\"+\"mig_GA\"+\".pickle\", \"rb\"))\n",
    "wgcna_x = np.array(hippo_dataset[GA_mig])\n",
    "rnd_y = np.array(hippo_dataset[\"cat\"])\n",
    "feature = wgcna_x\n",
    "label = rnd_y\n",
    "X_train, X_test, y_train, y_test = train_test_split(feature,label,test_size=0.3, random_state=0,stratify = label)\n",
    "params = pickle.load(open(\"hyper_\"+\"52\"+\"mig_GA\"+\".pickle\", \"rb\"))\n",
    "lr = LogisticRegression(**params).fit(X_train,y_train)\n",
    "Pred_c = lr.predict(X_test)"
   ]
  },
  {
   "cell_type": "code",
   "execution_count": 45,
   "metadata": {},
   "outputs": [
    {
     "data": {
      "image/png": "[encoded data removed]",
      "text/plain": [
       "<Figure size 432x288 with 2 Axes>"
      ]
     },
     "metadata": {
      "needs_background": "light"
     },
     "output_type": "display_data"
    }
   ],
   "source": [
    "#Confusion matrix in testing dataset\n",
    "cf = confusion_matrix(y_test,Pred_c)\n",
    "labels = [\"True Neg\",\"False Pos\",\"False Neg\",\"True Pos\"]\n",
    "categories = [\"Healthly\",\"Dementia\"]\n",
    "make_confusion_matrix(cf,group_names=labels,\n",
    "                      categories=categories, \n",
    "                      cmap=\"binary\")\n"
   ]
  },
  {
   "cell_type": "code",
   "execution_count": 82,
   "metadata": {},
   "outputs": [
    {
     "data": {
      "image/png": "[encoded data removed]",
      "text/plain": [
       "<Figure size 1512x504 with 3 Axes>"
      ]
     },
     "metadata": {
      "needs_background": "light"
     },
     "output_type": "display_data"
    }
   ],
   "source": [
    "#all model performance of the optimal model\n",
    "col_order = ['Training', 'Validating', 'Testing']\n",
    "g = sns.catplot(x=\"cat\", y=\"value\",col=\"type\",kind=\"bar\",col_order = hue_order,data=mga,height=7)"
   ]
  }
 ],
 "metadata": {
  "kernelspec": {
   "display_name": "Python 3",
   "language": "python",
   "name": "python3"
  },
  "language_info": {
   "codemirror_mode": {
    "name": "ipython",
    "version": 3
   },
   "file_extension": ".py",
   "mimetype": "text/x-python",
   "name": "python",
   "nbconvert_exporter": "python",
   "pygments_lexer": "ipython3",
   "version": "3.7.9"
  },
  "toc": {
   "base_numbering": 1,
   "nav_menu": {},
   "number_sections": true,
   "sideBar": true,
   "skip_h1_title": false,
   "title_cell": "Table of Contents",
   "title_sidebar": "Contents",
   "toc_cell": false,
   "toc_position": {},
   "toc_section_display": true,
   "toc_window_display": false
  }
 },
 "nbformat": 4,
 "nbformat_minor": 4
}
